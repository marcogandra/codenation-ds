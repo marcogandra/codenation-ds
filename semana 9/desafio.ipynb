{
 "cells": [
  {
   "cell_type": "markdown",
   "metadata": {},
   "source": [
    "## Importando as bibliotecas"
   ]
  },
  {
   "cell_type": "code",
   "execution_count": 57,
   "metadata": {},
   "outputs": [],
   "source": [
    "import pandas as pd\n",
    "from sklearn.ensemble import RandomForestClassifier\n",
    "import numpy as np\n",
    "pd.set_option(\"display.max_rows\", 200)\n",
    "pd.set_option('display.max_columns', 500)"
   ]
  },
  {
   "cell_type": "markdown",
   "metadata": {},
   "source": [
    "### Leitura do arquivo de treino do dataset"
   ]
  },
  {
   "cell_type": "code",
   "execution_count": 58,
   "metadata": {},
   "outputs": [],
   "source": [
    "train = pd.read_csv('train.csv')"
   ]
  },
  {
   "cell_type": "markdown",
   "metadata": {},
   "source": [
    "### Verificando a correlação das variáveis com a target"
   ]
  },
  {
   "cell_type": "code",
   "execution_count": 59,
   "metadata": {},
   "outputs": [
    {
     "data": {
      "text/plain": [
       "Unnamed: 0                     0.0067\n",
       "NU_ANO                            NaN\n",
       "CO_MUNICIPIO_RESIDENCIA       -0.0353\n",
       "CO_UF_RESIDENCIA              -0.0349\n",
       "NU_IDADE                      -0.2951\n",
       "TP_ESTADO_CIVIL               -0.1179\n",
       "TP_COR_RACA                    0.0097\n",
       "TP_NACIONALIDADE              -0.0152\n",
       "CO_MUNICIPIO_NASCIMENTO       -0.0182\n",
       "CO_UF_NASCIMENTO              -0.0180\n",
       "TP_ST_CONCLUSAO                0.5340\n",
       "TP_ANO_CONCLUIU               -0.2577\n",
       "TP_ESCOLA                     -0.2446\n",
       "TP_ENSINO                         NaN\n",
       "IN_TREINEIRO                   1.0000\n",
       "CO_ESCOLA                         NaN\n",
       "CO_MUNICIPIO_ESC                  NaN\n",
       "CO_UF_ESC                         NaN\n",
       "TP_DEPENDENCIA_ADM_ESC            NaN\n",
       "TP_LOCALIZACAO_ESC                NaN\n",
       "TP_SIT_FUNC_ESC                   NaN\n",
       "IN_BAIXA_VISAO                -0.0136\n",
       "IN_CEGUEIRA                       NaN\n",
       "IN_SURDEZ                     -0.0074\n",
       "IN_DEFICIENCIA_AUDITIVA        0.0009\n",
       "IN_SURDO_CEGUEIRA                 NaN\n",
       "IN_DEFICIENCIA_FISICA         -0.0181\n",
       "IN_DEFICIENCIA_MENTAL         -0.0047\n",
       "IN_DEFICIT_ATENCAO            -0.0048\n",
       "IN_DISLEXIA                   -0.0033\n",
       "IN_DISCALCULIA                -0.0033\n",
       "IN_AUTISMO                        NaN\n",
       "IN_VISAO_MONOCULAR            -0.0081\n",
       "IN_OUTRA_DEF                  -0.0087\n",
       "IN_SABATISTA                   0.0038\n",
       "IN_GESTANTE                   -0.0119\n",
       "IN_LACTANTE                   -0.0155\n",
       "IN_IDOSO                      -0.0047\n",
       "IN_ESTUDA_CLASSE_HOSPITALAR       NaN\n",
       "IN_SEM_RECURSO                -0.0182\n",
       "IN_BRAILLE                        NaN\n",
       "IN_AMPLIADA_24                -0.0087\n",
       "IN_AMPLIADA_18                -0.0109\n",
       "IN_LEDOR                      -0.0109\n",
       "IN_ACESSO                     -0.0178\n",
       "IN_TRANSCRICAO                -0.0119\n",
       "IN_LIBRAS                     -0.0081\n",
       "IN_LEITURA_LABIAL             -0.0057\n",
       "IN_MESA_CADEIRA_RODAS         -0.0066\n",
       "IN_MESA_CADEIRA_SEPARADA      -0.0087\n",
       "IN_APOIO_PERNA                -0.0081\n",
       "IN_GUIA_INTERPRETE                NaN\n",
       "IN_MACA                           NaN\n",
       "IN_COMPUTADOR                     NaN\n",
       "IN_CADEIRA_ESPECIAL               NaN\n",
       "IN_CADEIRA_CANHOTO                NaN\n",
       "IN_CADEIRA_ACOLCHOADA             NaN\n",
       "IN_PROVA_DEITADO                  NaN\n",
       "IN_MOBILIARIO_OBESO               NaN\n",
       "IN_LAMINA_OVERLAY                 NaN\n",
       "IN_PROTETOR_AURICULAR             NaN\n",
       "IN_MEDIDOR_GLICOSE            -0.0033\n",
       "IN_MAQUINA_BRAILE                 NaN\n",
       "IN_SOROBAN                        NaN\n",
       "IN_MARCA_PASSO                    NaN\n",
       "IN_SONDA                          NaN\n",
       "IN_MEDICAMENTOS               -0.0033\n",
       "IN_SALA_INDIVIDUAL                NaN\n",
       "IN_SALA_ESPECIAL              -0.0033\n",
       "IN_SALA_ACOMPANHANTE              NaN\n",
       "IN_MOBILIARIO_ESPECIFICO          NaN\n",
       "IN_MATERIAL_ESPECIFICO            NaN\n",
       "IN_NOME_SOCIAL                -0.0074\n",
       "IN_CERTIFICADO                -0.1422\n",
       "CO_UF_ENTIDADE_CERTIFICACAO       NaN\n",
       "CO_MUNICIPIO_PROVA            -0.0321\n",
       "CO_UF_PROVA                   -0.0319\n",
       "TP_PRESENCA_CN                 0.0947\n",
       "TP_PRESENCA_CH                 0.0947\n",
       "TP_PRESENCA_LC                 0.0925\n",
       "TP_PRESENCA_MT                 0.0925\n",
       "NU_NOTA_CN                    -0.0379\n",
       "NU_NOTA_CH                    -0.0535\n",
       "NU_NOTA_LC                    -0.0283\n",
       "NU_NOTA_MT                    -0.0223\n",
       "TP_LINGUA                     -0.0364\n",
       "TP_STATUS_REDACAO              0.0067\n",
       "NU_NOTA_COMP1                 -0.0087\n",
       "NU_NOTA_COMP2                 -0.0233\n",
       "NU_NOTA_COMP3                 -0.0301\n",
       "NU_NOTA_COMP4                 -0.0260\n",
       "NU_NOTA_COMP5                 -0.0258\n",
       "NU_NOTA_REDACAO               -0.0263\n",
       "Q005                           0.0334\n",
       "Q029                          -0.0439\n",
       "Q030                          -0.1055\n",
       "Q031                          -0.0348\n",
       "Q032                          -0.0009\n",
       "Q033                          -0.0713\n",
       "Q034                           0.0553\n",
       "Q035                          -0.0610\n",
       "Q036                          -0.0695\n",
       "Q037                          -0.0207\n",
       "Q038                           0.0189\n",
       "Q039                           0.0403\n",
       "Q040                           0.0053\n",
       "Q041                          -0.0462\n",
       "Name: IN_TREINEIRO, dtype: float64"
      ]
     },
     "execution_count": 59,
     "metadata": {},
     "output_type": "execute_result"
    }
   ],
   "source": [
    "train.corr().round(4)['IN_TREINEIRO']"
   ]
  },
  {
   "cell_type": "markdown",
   "metadata": {},
   "source": [
    "### Selecionando as variáveis para o modelo. A de menor correlação foi  NU_NOTA_COMP1 = 0.299"
   ]
  },
  {
   "cell_type": "code",
   "execution_count": 60,
   "metadata": {},
   "outputs": [],
   "source": [
    "colunas = ['TP_ST_CONCLUSAO', 'TP_PRESENCA_CN', 'TP_PRESENCA_CH', 'TP_PRESENCA_LC', 'TP_PRESENCA_MT',\n",
    "           'IN_TREINEIRO']"
   ]
  },
  {
   "cell_type": "code",
   "execution_count": 61,
   "metadata": {},
   "outputs": [],
   "source": [
    "# dataframe somente com as variáveis escolhidas\n",
    "train = train[colunas]"
   ]
  },
  {
   "cell_type": "code",
   "execution_count": 62,
   "metadata": {},
   "outputs": [
    {
     "data": {
      "text/html": [
       "<div>\n",
       "<style scoped>\n",
       "    .dataframe tbody tr th:only-of-type {\n",
       "        vertical-align: middle;\n",
       "    }\n",
       "\n",
       "    .dataframe tbody tr th {\n",
       "        vertical-align: top;\n",
       "    }\n",
       "\n",
       "    .dataframe thead th {\n",
       "        text-align: right;\n",
       "    }\n",
       "</style>\n",
       "<table border=\"1\" class=\"dataframe\">\n",
       "  <thead>\n",
       "    <tr style=\"text-align: right;\">\n",
       "      <th></th>\n",
       "      <th>TP_ST_CONCLUSAO</th>\n",
       "      <th>TP_PRESENCA_CN</th>\n",
       "      <th>TP_PRESENCA_CH</th>\n",
       "      <th>TP_PRESENCA_LC</th>\n",
       "      <th>TP_PRESENCA_MT</th>\n",
       "      <th>IN_TREINEIRO</th>\n",
       "    </tr>\n",
       "  </thead>\n",
       "  <tbody>\n",
       "    <tr>\n",
       "      <th>TP_ST_CONCLUSAO</th>\n",
       "      <td>1.0000</td>\n",
       "      <td>0.0548</td>\n",
       "      <td>0.0548</td>\n",
       "      <td>0.0533</td>\n",
       "      <td>0.0533</td>\n",
       "      <td>0.5340</td>\n",
       "    </tr>\n",
       "    <tr>\n",
       "      <th>TP_PRESENCA_CN</th>\n",
       "      <td>0.0548</td>\n",
       "      <td>1.0000</td>\n",
       "      <td>1.0000</td>\n",
       "      <td>0.9434</td>\n",
       "      <td>0.9434</td>\n",
       "      <td>0.0947</td>\n",
       "    </tr>\n",
       "    <tr>\n",
       "      <th>TP_PRESENCA_CH</th>\n",
       "      <td>0.0548</td>\n",
       "      <td>1.0000</td>\n",
       "      <td>1.0000</td>\n",
       "      <td>0.9434</td>\n",
       "      <td>0.9434</td>\n",
       "      <td>0.0947</td>\n",
       "    </tr>\n",
       "    <tr>\n",
       "      <th>TP_PRESENCA_LC</th>\n",
       "      <td>0.0533</td>\n",
       "      <td>0.9434</td>\n",
       "      <td>0.9434</td>\n",
       "      <td>1.0000</td>\n",
       "      <td>1.0000</td>\n",
       "      <td>0.0925</td>\n",
       "    </tr>\n",
       "    <tr>\n",
       "      <th>TP_PRESENCA_MT</th>\n",
       "      <td>0.0533</td>\n",
       "      <td>0.9434</td>\n",
       "      <td>0.9434</td>\n",
       "      <td>1.0000</td>\n",
       "      <td>1.0000</td>\n",
       "      <td>0.0925</td>\n",
       "    </tr>\n",
       "    <tr>\n",
       "      <th>IN_TREINEIRO</th>\n",
       "      <td>0.5340</td>\n",
       "      <td>0.0947</td>\n",
       "      <td>0.0947</td>\n",
       "      <td>0.0925</td>\n",
       "      <td>0.0925</td>\n",
       "      <td>1.0000</td>\n",
       "    </tr>\n",
       "  </tbody>\n",
       "</table>\n",
       "</div>"
      ],
      "text/plain": [
       "                 TP_ST_CONCLUSAO  TP_PRESENCA_CN  TP_PRESENCA_CH  \\\n",
       "TP_ST_CONCLUSAO           1.0000          0.0548          0.0548   \n",
       "TP_PRESENCA_CN            0.0548          1.0000          1.0000   \n",
       "TP_PRESENCA_CH            0.0548          1.0000          1.0000   \n",
       "TP_PRESENCA_LC            0.0533          0.9434          0.9434   \n",
       "TP_PRESENCA_MT            0.0533          0.9434          0.9434   \n",
       "IN_TREINEIRO              0.5340          0.0947          0.0947   \n",
       "\n",
       "                 TP_PRESENCA_LC  TP_PRESENCA_MT  IN_TREINEIRO  \n",
       "TP_ST_CONCLUSAO          0.0533          0.0533        0.5340  \n",
       "TP_PRESENCA_CN           0.9434          0.9434        0.0947  \n",
       "TP_PRESENCA_CH           0.9434          0.9434        0.0947  \n",
       "TP_PRESENCA_LC           1.0000          1.0000        0.0925  \n",
       "TP_PRESENCA_MT           1.0000          1.0000        0.0925  \n",
       "IN_TREINEIRO             0.0925          0.0925        1.0000  "
      ]
     },
     "execution_count": 62,
     "metadata": {},
     "output_type": "execute_result"
    }
   ],
   "source": [
    "# verificando a correlação no novo dataframe\n",
    "train.corr().round(4)"
   ]
  },
  {
   "cell_type": "markdown",
   "metadata": {},
   "source": [
    "#### Verificando mais informações do dataframe"
   ]
  },
  {
   "cell_type": "code",
   "execution_count": 63,
   "metadata": {},
   "outputs": [
    {
     "name": "stdout",
     "output_type": "stream",
     "text": [
      "<class 'pandas.core.frame.DataFrame'>\n",
      "RangeIndex: 13730 entries, 0 to 13729\n",
      "Data columns (total 6 columns):\n",
      " #   Column           Non-Null Count  Dtype\n",
      "---  ------           --------------  -----\n",
      " 0   TP_ST_CONCLUSAO  13730 non-null  int64\n",
      " 1   TP_PRESENCA_CN   13730 non-null  int64\n",
      " 2   TP_PRESENCA_CH   13730 non-null  int64\n",
      " 3   TP_PRESENCA_LC   13730 non-null  int64\n",
      " 4   TP_PRESENCA_MT   13730 non-null  int64\n",
      " 5   IN_TREINEIRO     13730 non-null  int64\n",
      "dtypes: int64(6)\n",
      "memory usage: 643.7 KB\n"
     ]
    }
   ],
   "source": [
    "train.info()"
   ]
  },
  {
   "cell_type": "markdown",
   "metadata": {},
   "source": [
    "### Verificando estatísticas descritivas das variáveis"
   ]
  },
  {
   "cell_type": "code",
   "execution_count": 64,
   "metadata": {},
   "outputs": [
    {
     "data": {
      "text/html": [
       "<div>\n",
       "<style scoped>\n",
       "    .dataframe tbody tr th:only-of-type {\n",
       "        vertical-align: middle;\n",
       "    }\n",
       "\n",
       "    .dataframe tbody tr th {\n",
       "        vertical-align: top;\n",
       "    }\n",
       "\n",
       "    .dataframe thead th {\n",
       "        text-align: right;\n",
       "    }\n",
       "</style>\n",
       "<table border=\"1\" class=\"dataframe\">\n",
       "  <thead>\n",
       "    <tr style=\"text-align: right;\">\n",
       "      <th></th>\n",
       "      <th>TP_ST_CONCLUSAO</th>\n",
       "      <th>TP_PRESENCA_CN</th>\n",
       "      <th>TP_PRESENCA_CH</th>\n",
       "      <th>TP_PRESENCA_LC</th>\n",
       "      <th>TP_PRESENCA_MT</th>\n",
       "      <th>IN_TREINEIRO</th>\n",
       "    </tr>\n",
       "  </thead>\n",
       "  <tbody>\n",
       "    <tr>\n",
       "      <th>count</th>\n",
       "      <td>13730.00</td>\n",
       "      <td>13730.00</td>\n",
       "      <td>13730.00</td>\n",
       "      <td>13730.00</td>\n",
       "      <td>13730.00</td>\n",
       "      <td>13730.00</td>\n",
       "    </tr>\n",
       "    <tr>\n",
       "      <th>mean</th>\n",
       "      <td>1.78</td>\n",
       "      <td>0.75</td>\n",
       "      <td>0.75</td>\n",
       "      <td>0.74</td>\n",
       "      <td>0.74</td>\n",
       "      <td>0.13</td>\n",
       "    </tr>\n",
       "    <tr>\n",
       "      <th>std</th>\n",
       "      <td>0.88</td>\n",
       "      <td>0.43</td>\n",
       "      <td>0.43</td>\n",
       "      <td>0.44</td>\n",
       "      <td>0.44</td>\n",
       "      <td>0.34</td>\n",
       "    </tr>\n",
       "    <tr>\n",
       "      <th>min</th>\n",
       "      <td>1.00</td>\n",
       "      <td>0.00</td>\n",
       "      <td>0.00</td>\n",
       "      <td>0.00</td>\n",
       "      <td>0.00</td>\n",
       "      <td>0.00</td>\n",
       "    </tr>\n",
       "    <tr>\n",
       "      <th>25%</th>\n",
       "      <td>1.00</td>\n",
       "      <td>1.00</td>\n",
       "      <td>1.00</td>\n",
       "      <td>0.00</td>\n",
       "      <td>0.00</td>\n",
       "      <td>0.00</td>\n",
       "    </tr>\n",
       "    <tr>\n",
       "      <th>50%</th>\n",
       "      <td>2.00</td>\n",
       "      <td>1.00</td>\n",
       "      <td>1.00</td>\n",
       "      <td>1.00</td>\n",
       "      <td>1.00</td>\n",
       "      <td>0.00</td>\n",
       "    </tr>\n",
       "    <tr>\n",
       "      <th>75%</th>\n",
       "      <td>2.00</td>\n",
       "      <td>1.00</td>\n",
       "      <td>1.00</td>\n",
       "      <td>1.00</td>\n",
       "      <td>1.00</td>\n",
       "      <td>0.00</td>\n",
       "    </tr>\n",
       "    <tr>\n",
       "      <th>max</th>\n",
       "      <td>4.00</td>\n",
       "      <td>2.00</td>\n",
       "      <td>2.00</td>\n",
       "      <td>2.00</td>\n",
       "      <td>2.00</td>\n",
       "      <td>1.00</td>\n",
       "    </tr>\n",
       "  </tbody>\n",
       "</table>\n",
       "</div>"
      ],
      "text/plain": [
       "       TP_ST_CONCLUSAO  TP_PRESENCA_CN  TP_PRESENCA_CH  TP_PRESENCA_LC  \\\n",
       "count         13730.00        13730.00        13730.00        13730.00   \n",
       "mean              1.78            0.75            0.75            0.74   \n",
       "std               0.88            0.43            0.43            0.44   \n",
       "min               1.00            0.00            0.00            0.00   \n",
       "25%               1.00            1.00            1.00            0.00   \n",
       "50%               2.00            1.00            1.00            1.00   \n",
       "75%               2.00            1.00            1.00            1.00   \n",
       "max               4.00            2.00            2.00            2.00   \n",
       "\n",
       "       TP_PRESENCA_MT  IN_TREINEIRO  \n",
       "count        13730.00      13730.00  \n",
       "mean             0.74          0.13  \n",
       "std              0.44          0.34  \n",
       "min              0.00          0.00  \n",
       "25%              0.00          0.00  \n",
       "50%              1.00          0.00  \n",
       "75%              1.00          0.00  \n",
       "max              2.00          1.00  "
      ]
     },
     "execution_count": 64,
     "metadata": {},
     "output_type": "execute_result"
    }
   ],
   "source": [
    "train.describe().round(2)"
   ]
  },
  {
   "cell_type": "markdown",
   "metadata": {},
   "source": [
    "#### Verificando a quantidade de nulos nas variáveis"
   ]
  },
  {
   "cell_type": "code",
   "execution_count": 65,
   "metadata": {},
   "outputs": [
    {
     "data": {
      "text/plain": [
       "TP_ST_CONCLUSAO    0\n",
       "TP_PRESENCA_CN     0\n",
       "TP_PRESENCA_CH     0\n",
       "TP_PRESENCA_LC     0\n",
       "TP_PRESENCA_MT     0\n",
       "IN_TREINEIRO       0\n",
       "dtype: int64"
      ]
     },
     "execution_count": 65,
     "metadata": {},
     "output_type": "execute_result"
    }
   ],
   "source": [
    "train.isnull().sum()"
   ]
  },
  {
   "cell_type": "markdown",
   "metadata": {},
   "source": [
    "#### Selecionando a target do modelo"
   ]
  },
  {
   "cell_type": "code",
   "execution_count": 67,
   "metadata": {},
   "outputs": [
    {
     "data": {
      "text/plain": [
       "0        0\n",
       "1        0\n",
       "2        0\n",
       "3        0\n",
       "4        0\n",
       "        ..\n",
       "13725    0\n",
       "13726    0\n",
       "13727    1\n",
       "13728    0\n",
       "13729    0\n",
       "Name: IN_TREINEIRO, Length: 13730, dtype: int64"
      ]
     },
     "execution_count": 67,
     "metadata": {},
     "output_type": "execute_result"
    }
   ],
   "source": [
    "y_train = train.IN_TREINEIRO\n",
    "y_train"
   ]
  },
  {
   "cell_type": "markdown",
   "metadata": {},
   "source": [
    "#### Selecionando as variáveis independente"
   ]
  },
  {
   "cell_type": "code",
   "execution_count": 68,
   "metadata": {},
   "outputs": [],
   "source": [
    "X_train = train\n",
    "X_train.drop(columns=['IN_TREINEIRO'], inplace=True)"
   ]
  },
  {
   "cell_type": "code",
   "execution_count": 69,
   "metadata": {},
   "outputs": [
    {
     "data": {
      "text/plain": [
       "Index(['TP_ST_CONCLUSAO', 'TP_PRESENCA_CN', 'TP_PRESENCA_CH', 'TP_PRESENCA_LC',\n",
       "       'TP_PRESENCA_MT'],\n",
       "      dtype='object')"
      ]
     },
     "execution_count": 69,
     "metadata": {},
     "output_type": "execute_result"
    }
   ],
   "source": [
    "# Verificando quais são as variáveis independentes\n",
    "X_train.columns"
   ]
  },
  {
   "cell_type": "code",
   "execution_count": 70,
   "metadata": {},
   "outputs": [
    {
     "data": {
      "text/plain": [
       "['TP_ST_CONCLUSAO',\n",
       " 'TP_PRESENCA_CN',\n",
       " 'TP_PRESENCA_CH',\n",
       " 'TP_PRESENCA_LC',\n",
       " 'TP_PRESENCA_MT',\n",
       " 'IN_TREINEIRO']"
      ]
     },
     "execution_count": 70,
     "metadata": {},
     "output_type": "execute_result"
    }
   ],
   "source": [
    "colunas"
   ]
  },
  {
   "cell_type": "markdown",
   "metadata": {},
   "source": [
    "### Criando lista com as colunas que foram usadas para a parte do treino, sabendo que tem que ser igual para o teste"
   ]
  },
  {
   "cell_type": "code",
   "execution_count": 71,
   "metadata": {},
   "outputs": [],
   "source": [
    "# criando uma cópia da lista\n",
    "colunas_test = colunas.copy()\n",
    "\n",
    "# removendo a última variável da lista, neste caso é IN_TREINEIRO, que no caso é a target e não existe no teste\n",
    "colunas_test.pop()\n",
    "\n",
    "# adicionando o NU_INSCRICAO\n",
    "colunas_test.append('NU_INSCRICAO')"
   ]
  },
  {
   "cell_type": "markdown",
   "metadata": {},
   "source": [
    "### Leitura do arquivo de teste do dataset"
   ]
  },
  {
   "cell_type": "code",
   "execution_count": 72,
   "metadata": {},
   "outputs": [],
   "source": [
    "test = pd.read_csv('test.csv', usecols=colunas_test)"
   ]
  },
  {
   "cell_type": "markdown",
   "metadata": {},
   "source": [
    "#### Salvando a lista de identificação dos participantes do enem para montar o arquivo ao final do modelo"
   ]
  },
  {
   "cell_type": "code",
   "execution_count": 73,
   "metadata": {},
   "outputs": [],
   "source": [
    "num_inscricao = test['NU_INSCRICAO']"
   ]
  },
  {
   "cell_type": "markdown",
   "metadata": {},
   "source": [
    "#### Verificando a quantidade de nulos nas variáveis"
   ]
  },
  {
   "cell_type": "code",
   "execution_count": 74,
   "metadata": {},
   "outputs": [
    {
     "data": {
      "text/plain": [
       "NU_INSCRICAO       0\n",
       "TP_ST_CONCLUSAO    0\n",
       "TP_PRESENCA_CN     0\n",
       "TP_PRESENCA_CH     0\n",
       "TP_PRESENCA_LC     0\n",
       "TP_PRESENCA_MT     0\n",
       "dtype: int64"
      ]
     },
     "execution_count": 74,
     "metadata": {},
     "output_type": "execute_result"
    }
   ],
   "source": [
    "test.isnull().sum()"
   ]
  },
  {
   "cell_type": "markdown",
   "metadata": {},
   "source": [
    "#### Criando coluna target no dataframe de teste, valores nulos pois o modelo irá fazer a predição"
   ]
  },
  {
   "cell_type": "code",
   "execution_count": 77,
   "metadata": {},
   "outputs": [],
   "source": [
    "test['IN_TREINEIRO'] = None"
   ]
  },
  {
   "cell_type": "markdown",
   "metadata": {},
   "source": [
    "#### Selecionando a target do modelo"
   ]
  },
  {
   "cell_type": "code",
   "execution_count": 78,
   "metadata": {},
   "outputs": [
    {
     "data": {
      "text/plain": [
       "0       None\n",
       "1       None\n",
       "2       None\n",
       "3       None\n",
       "4       None\n",
       "        ... \n",
       "4565    None\n",
       "4566    None\n",
       "4567    None\n",
       "4568    None\n",
       "4569    None\n",
       "Name: IN_TREINEIRO, Length: 4570, dtype: object"
      ]
     },
     "execution_count": 78,
     "metadata": {},
     "output_type": "execute_result"
    }
   ],
   "source": [
    "y_test = test['IN_TREINEIRO']\n",
    "y_test"
   ]
  },
  {
   "cell_type": "markdown",
   "metadata": {},
   "source": [
    "#### Selecionando as variáveis independente"
   ]
  },
  {
   "cell_type": "code",
   "execution_count": 79,
   "metadata": {},
   "outputs": [],
   "source": [
    "# excluindo NU_INSCRICAO, porque não faz sentido para o modelo\n",
    "test.drop(columns=['NU_INSCRICAO'], inplace=True)\n",
    "X_test = test"
   ]
  },
  {
   "cell_type": "code",
   "execution_count": 80,
   "metadata": {},
   "outputs": [
    {
     "data": {
      "text/html": [
       "<div>\n",
       "<style scoped>\n",
       "    .dataframe tbody tr th:only-of-type {\n",
       "        vertical-align: middle;\n",
       "    }\n",
       "\n",
       "    .dataframe tbody tr th {\n",
       "        vertical-align: top;\n",
       "    }\n",
       "\n",
       "    .dataframe thead th {\n",
       "        text-align: right;\n",
       "    }\n",
       "</style>\n",
       "<table border=\"1\" class=\"dataframe\">\n",
       "  <thead>\n",
       "    <tr style=\"text-align: right;\">\n",
       "      <th></th>\n",
       "      <th>TP_ST_CONCLUSAO</th>\n",
       "      <th>TP_PRESENCA_CN</th>\n",
       "      <th>TP_PRESENCA_CH</th>\n",
       "      <th>TP_PRESENCA_LC</th>\n",
       "      <th>TP_PRESENCA_MT</th>\n",
       "    </tr>\n",
       "  </thead>\n",
       "  <tbody>\n",
       "    <tr>\n",
       "      <th>0</th>\n",
       "      <td>1</td>\n",
       "      <td>1</td>\n",
       "      <td>1</td>\n",
       "      <td>0</td>\n",
       "      <td>0</td>\n",
       "    </tr>\n",
       "    <tr>\n",
       "      <th>1</th>\n",
       "      <td>1</td>\n",
       "      <td>0</td>\n",
       "      <td>0</td>\n",
       "      <td>0</td>\n",
       "      <td>0</td>\n",
       "    </tr>\n",
       "    <tr>\n",
       "      <th>2</th>\n",
       "      <td>3</td>\n",
       "      <td>1</td>\n",
       "      <td>1</td>\n",
       "      <td>0</td>\n",
       "      <td>0</td>\n",
       "    </tr>\n",
       "    <tr>\n",
       "      <th>3</th>\n",
       "      <td>2</td>\n",
       "      <td>1</td>\n",
       "      <td>1</td>\n",
       "      <td>1</td>\n",
       "      <td>1</td>\n",
       "    </tr>\n",
       "    <tr>\n",
       "      <th>4</th>\n",
       "      <td>1</td>\n",
       "      <td>1</td>\n",
       "      <td>1</td>\n",
       "      <td>1</td>\n",
       "      <td>1</td>\n",
       "    </tr>\n",
       "    <tr>\n",
       "      <th>...</th>\n",
       "      <td>...</td>\n",
       "      <td>...</td>\n",
       "      <td>...</td>\n",
       "      <td>...</td>\n",
       "      <td>...</td>\n",
       "    </tr>\n",
       "    <tr>\n",
       "      <th>4565</th>\n",
       "      <td>2</td>\n",
       "      <td>1</td>\n",
       "      <td>1</td>\n",
       "      <td>1</td>\n",
       "      <td>1</td>\n",
       "    </tr>\n",
       "    <tr>\n",
       "      <th>4566</th>\n",
       "      <td>1</td>\n",
       "      <td>1</td>\n",
       "      <td>1</td>\n",
       "      <td>1</td>\n",
       "      <td>1</td>\n",
       "    </tr>\n",
       "    <tr>\n",
       "      <th>4567</th>\n",
       "      <td>1</td>\n",
       "      <td>1</td>\n",
       "      <td>1</td>\n",
       "      <td>1</td>\n",
       "      <td>1</td>\n",
       "    </tr>\n",
       "    <tr>\n",
       "      <th>4568</th>\n",
       "      <td>2</td>\n",
       "      <td>1</td>\n",
       "      <td>1</td>\n",
       "      <td>1</td>\n",
       "      <td>1</td>\n",
       "    </tr>\n",
       "    <tr>\n",
       "      <th>4569</th>\n",
       "      <td>1</td>\n",
       "      <td>1</td>\n",
       "      <td>1</td>\n",
       "      <td>1</td>\n",
       "      <td>1</td>\n",
       "    </tr>\n",
       "  </tbody>\n",
       "</table>\n",
       "<p>4570 rows × 5 columns</p>\n",
       "</div>"
      ],
      "text/plain": [
       "      TP_ST_CONCLUSAO  TP_PRESENCA_CN  TP_PRESENCA_CH  TP_PRESENCA_LC  \\\n",
       "0                   1               1               1               0   \n",
       "1                   1               0               0               0   \n",
       "2                   3               1               1               0   \n",
       "3                   2               1               1               1   \n",
       "4                   1               1               1               1   \n",
       "...               ...             ...             ...             ...   \n",
       "4565                2               1               1               1   \n",
       "4566                1               1               1               1   \n",
       "4567                1               1               1               1   \n",
       "4568                2               1               1               1   \n",
       "4569                1               1               1               1   \n",
       "\n",
       "      TP_PRESENCA_MT  \n",
       "0                  0  \n",
       "1                  0  \n",
       "2                  0  \n",
       "3                  1  \n",
       "4                  1  \n",
       "...              ...  \n",
       "4565               1  \n",
       "4566               1  \n",
       "4567               1  \n",
       "4568               1  \n",
       "4569               1  \n",
       "\n",
       "[4570 rows x 5 columns]"
      ]
     },
     "execution_count": 80,
     "metadata": {},
     "output_type": "execute_result"
    }
   ],
   "source": [
    "X_test.drop(columns=['IN_TREINEIRO'], inplace=True)\n",
    "X_test"
   ]
  },
  {
   "cell_type": "markdown",
   "metadata": {},
   "source": [
    "## Instanciando modelo RandomForestClassifier"
   ]
  },
  {
   "cell_type": "code",
   "execution_count": 81,
   "metadata": {},
   "outputs": [],
   "source": [
    "modelo = RandomForestClassifier(n_estimators=2000, n_jobs=-1, max_depth=100, min_samples_leaf=4,\n",
    "                             min_samples_split=10, random_state=0)"
   ]
  },
  {
   "cell_type": "markdown",
   "metadata": {},
   "source": [
    "### Treinando modelo"
   ]
  },
  {
   "cell_type": "code",
   "execution_count": 83,
   "metadata": {},
   "outputs": [
    {
     "name": "stdout",
     "output_type": "stream",
     "text": [
      "CPU times: user 5.74 s, sys: 597 ms, total: 6.34 s\n",
      "Wall time: 3.51 s\n"
     ]
    },
    {
     "data": {
      "text/plain": [
       "RandomForestClassifier(max_depth=100, min_samples_leaf=4, min_samples_split=10,\n",
       "                       n_estimators=2000, n_jobs=-1, random_state=0)"
      ]
     },
     "execution_count": 83,
     "metadata": {},
     "output_type": "execute_result"
    }
   ],
   "source": [
    "%%time\n",
    "modelo.fit(X_train, y_train)"
   ]
  },
  {
   "cell_type": "markdown",
   "metadata": {},
   "source": [
    "### Verificando a acurácia"
   ]
  },
  {
   "cell_type": "markdown",
   "metadata": {},
   "source": [
    "#### Na classificação de vários rótulos, essa é a precisão do subconjunto, que é uma métrica severa, pois você precisa para cada amostra que cada conjunto de rótulos seja previsto corretamente."
   ]
  },
  {
   "cell_type": "code",
   "execution_count": 84,
   "metadata": {},
   "outputs": [
    {
     "name": "stdout",
     "output_type": "stream",
     "text": [
      "acurácia = 0.96\n"
     ]
    }
   ],
   "source": [
    "print('acurácia = {}'.format(modelo.score(X_train, y_train).round(2)))"
   ]
  },
  {
   "cell_type": "markdown",
   "metadata": {},
   "source": [
    "### Classificando a variável target para o teste"
   ]
  },
  {
   "cell_type": "code",
   "execution_count": 90,
   "metadata": {},
   "outputs": [
    {
     "data": {
      "text/plain": [
       "array([0, 0, 1, ..., 0, 0, 0])"
      ]
     },
     "execution_count": 90,
     "metadata": {},
     "output_type": "execute_result"
    }
   ],
   "source": [
    "y_predict = modelo.predict(X_test)\n",
    "y_predict"
   ]
  },
  {
   "cell_type": "code",
   "execution_count": 98,
   "metadata": {},
   "outputs": [
    {
     "data": {
      "text/plain": [
       "0       0\n",
       "1       0\n",
       "2       1\n",
       "3       0\n",
       "4       0\n",
       "       ..\n",
       "4565    0\n",
       "4566    0\n",
       "4567    0\n",
       "4568    0\n",
       "4569    0\n",
       "Length: 4570, dtype: int64"
      ]
     },
     "execution_count": 98,
     "metadata": {},
     "output_type": "execute_result"
    }
   ],
   "source": [
    "# Criando uma Serie para as classificações\n",
    "y_predict = pd.Series(y_predict)\n",
    "y_predict"
   ]
  },
  {
   "cell_type": "code",
   "execution_count": 94,
   "metadata": {},
   "outputs": [],
   "source": [
    "# Criando dataframe com NUM_INSCRICAO e IN_TREINEIRO (classificado)\n",
    "answer = pd.concat([num_inscricao, y_predict], axis=1)\n",
    "# Renomeando coluna\n",
    "answer.rename(columns={0:'IN_TREINEIRO'}, inplace=True)"
   ]
  },
  {
   "cell_type": "code",
   "execution_count": 95,
   "metadata": {},
   "outputs": [
    {
     "data": {
      "text/html": [
       "<div>\n",
       "<style scoped>\n",
       "    .dataframe tbody tr th:only-of-type {\n",
       "        vertical-align: middle;\n",
       "    }\n",
       "\n",
       "    .dataframe tbody tr th {\n",
       "        vertical-align: top;\n",
       "    }\n",
       "\n",
       "    .dataframe thead th {\n",
       "        text-align: right;\n",
       "    }\n",
       "</style>\n",
       "<table border=\"1\" class=\"dataframe\">\n",
       "  <thead>\n",
       "    <tr style=\"text-align: right;\">\n",
       "      <th></th>\n",
       "      <th>NU_INSCRICAO</th>\n",
       "      <th>IN_TREINEIRO</th>\n",
       "    </tr>\n",
       "  </thead>\n",
       "  <tbody>\n",
       "    <tr>\n",
       "      <th>0</th>\n",
       "      <td>ba0cc30ba34e7a46764c09dfc38ed83d15828897</td>\n",
       "      <td>0</td>\n",
       "    </tr>\n",
       "    <tr>\n",
       "      <th>1</th>\n",
       "      <td>177f281c68fa032aedbd842a745da68490926cd2</td>\n",
       "      <td>0</td>\n",
       "    </tr>\n",
       "    <tr>\n",
       "      <th>2</th>\n",
       "      <td>6cf0d8b97597d7625cdedc7bdb6c0f052286c334</td>\n",
       "      <td>1</td>\n",
       "    </tr>\n",
       "    <tr>\n",
       "      <th>3</th>\n",
       "      <td>5c356d810fa57671402502cd0933e5601a2ebf1e</td>\n",
       "      <td>0</td>\n",
       "    </tr>\n",
       "    <tr>\n",
       "      <th>4</th>\n",
       "      <td>df47c07bd881c2db3f38c6048bf77c132ad0ceb3</td>\n",
       "      <td>0</td>\n",
       "    </tr>\n",
       "    <tr>\n",
       "      <th>...</th>\n",
       "      <td>...</td>\n",
       "      <td>...</td>\n",
       "    </tr>\n",
       "    <tr>\n",
       "      <th>4565</th>\n",
       "      <td>361b7fcd8867119550fe2af5aa729ffad89a7cf5</td>\n",
       "      <td>0</td>\n",
       "    </tr>\n",
       "    <tr>\n",
       "      <th>4566</th>\n",
       "      <td>d8a0e4c9e29494cc9bba2422bd79333931475ee1</td>\n",
       "      <td>0</td>\n",
       "    </tr>\n",
       "    <tr>\n",
       "      <th>4567</th>\n",
       "      <td>3f1c3388244df8d6521e983a809292d9f3bca643</td>\n",
       "      <td>0</td>\n",
       "    </tr>\n",
       "    <tr>\n",
       "      <th>4568</th>\n",
       "      <td>1778e9c4cef591beb6b986d191d15ed05de816b0</td>\n",
       "      <td>0</td>\n",
       "    </tr>\n",
       "    <tr>\n",
       "      <th>4569</th>\n",
       "      <td>096809759695097e384e766d2d9e23a34fc81610</td>\n",
       "      <td>0</td>\n",
       "    </tr>\n",
       "  </tbody>\n",
       "</table>\n",
       "<p>4570 rows × 2 columns</p>\n",
       "</div>"
      ],
      "text/plain": [
       "                                  NU_INSCRICAO  IN_TREINEIRO\n",
       "0     ba0cc30ba34e7a46764c09dfc38ed83d15828897             0\n",
       "1     177f281c68fa032aedbd842a745da68490926cd2             0\n",
       "2     6cf0d8b97597d7625cdedc7bdb6c0f052286c334             1\n",
       "3     5c356d810fa57671402502cd0933e5601a2ebf1e             0\n",
       "4     df47c07bd881c2db3f38c6048bf77c132ad0ceb3             0\n",
       "...                                        ...           ...\n",
       "4565  361b7fcd8867119550fe2af5aa729ffad89a7cf5             0\n",
       "4566  d8a0e4c9e29494cc9bba2422bd79333931475ee1             0\n",
       "4567  3f1c3388244df8d6521e983a809292d9f3bca643             0\n",
       "4568  1778e9c4cef591beb6b986d191d15ed05de816b0             0\n",
       "4569  096809759695097e384e766d2d9e23a34fc81610             0\n",
       "\n",
       "[4570 rows x 2 columns]"
      ]
     },
     "execution_count": 95,
     "metadata": {},
     "output_type": "execute_result"
    }
   ],
   "source": [
    "answer"
   ]
  },
  {
   "cell_type": "markdown",
   "metadata": {},
   "source": [
    "## Criando arquivo para submissão do desafio"
   ]
  },
  {
   "cell_type": "code",
   "execution_count": 97,
   "metadata": {},
   "outputs": [],
   "source": [
    "answer.to_csv('answer.csv',columns=['NU_INSCRICAO', 'IN_TREINEIRO'], sep=',', index=False)"
   ]
  },
  {
   "cell_type": "code",
   "execution_count": null,
   "metadata": {},
   "outputs": [],
   "source": []
  }
 ],
 "metadata": {
  "kernelspec": {
   "display_name": "Python 3",
   "language": "python",
   "name": "python3"
  },
  "language_info": {
   "codemirror_mode": {
    "name": "ipython",
    "version": 3
   },
   "file_extension": ".py",
   "mimetype": "text/x-python",
   "name": "python",
   "nbconvert_exporter": "python",
   "pygments_lexer": "ipython3",
   "version": "3.7.6"
  }
 },
 "nbformat": 4,
 "nbformat_minor": 2
}
