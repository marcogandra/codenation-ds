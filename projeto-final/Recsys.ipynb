{
 "cells": [
  {
   "cell_type": "markdown",
   "metadata": {},
   "source": [
    "# Objetivo\n",
    "Sugerir novos clientes para um portfólio de entrada"
   ]
  },
  {
   "cell_type": "markdown",
   "metadata": {},
   "source": [
    "# Metodologia\n",
    "\n",
    "Com uma base de mais de 460.000 clientes o sistema de recomendação nesse notebook gera recomendações de possíveis leads para um portfólio de clientes fornecido como entrada.\n",
    "\n",
    "As etapas de implementação do sistema contemplam a leitura da base com a biblioteca pandas, o preenchimento de valores nulos de acordo com sua categoria, na sequência codifica atráves do método de LabelEncoder as componentes para possibilitar a utilizaçaõ do algoritmo NearestNeihghbors, o qual possibilita o cálculo da distância entre o cliente de entrada e os clientes mais próximos.\n",
    "\n",
    "Foi criada algumas funções auxiliares para a solução deste projeto"
   ]
  },
  {
   "cell_type": "markdown",
   "metadata": {},
   "source": [
    "## Importando as bibliotecas"
   ]
  },
  {
   "cell_type": "code",
   "execution_count": 1,
   "metadata": {},
   "outputs": [],
   "source": [
    "import matplotlib.pyplot as plt\n",
    "import seaborn as sns\n",
    "\n",
    "import numpy as np\n",
    "import pandas as pd\n",
    "\n",
    "from pandas_profiling import ProfileReport\n",
    "import sweetviz as sv\n",
    "\n",
    "from sklearn.model_selection import train_test_split\n",
    "from sklearn.neighbors import NearestNeighbors\n",
    "from sklearn.preprocessing import LabelEncoder\n",
    "\n",
    "import warnings\n",
    "warnings.filterwarnings('ignore')"
   ]
  },
  {
   "cell_type": "markdown",
   "metadata": {},
   "source": [
    "#### Configurando setup de visualização"
   ]
  },
  {
   "cell_type": "code",
   "execution_count": 2,
   "metadata": {},
   "outputs": [],
   "source": [
    "%matplotlib inline\n",
    "from IPython.core.pylabtools import figsize\n",
    "figsize(12, 8)\n",
    "sns.set()\n",
    "\n",
    "pd.set_option(\"display.max_rows\", 200)\n",
    "pd.set_option(\"display.max_columns\", 200)"
   ]
  },
  {
   "cell_type": "markdown",
   "metadata": {},
   "source": [
    "## Leitura dos arquivos que compõe o dataset"
   ]
  },
  {
   "cell_type": "markdown",
   "metadata": {},
   "source": [
    "### Base com informações sobre as empresas do Mercado a ser considerado."
   ]
  },
  {
   "cell_type": "code",
   "execution_count": 3,
   "metadata": {},
   "outputs": [],
   "source": [
    "market = pd.read_csv('estaticos_market.csv', sep=',', index_col=0)"
   ]
  },
  {
   "cell_type": "markdown",
   "metadata": {},
   "source": [
    "### Portfólio empresa 1"
   ]
  },
  {
   "cell_type": "code",
   "execution_count": 4,
   "metadata": {},
   "outputs": [],
   "source": [
    "port_1 = pd.read_csv('estaticos_portfolio1.csv', usecols=['id']).merge(market, on='id', how='inner')"
   ]
  },
  {
   "cell_type": "markdown",
   "metadata": {},
   "source": [
    "### Portfólio empresa 2"
   ]
  },
  {
   "cell_type": "code",
   "execution_count": 5,
   "metadata": {},
   "outputs": [],
   "source": [
    "port_2 = pd.read_csv('estaticos_portfolio2.csv', usecols=['id']).merge(market, on='id', how='inner')"
   ]
  },
  {
   "cell_type": "markdown",
   "metadata": {},
   "source": [
    "### Portfólio empresa 3"
   ]
  },
  {
   "cell_type": "code",
   "execution_count": 6,
   "metadata": {},
   "outputs": [],
   "source": [
    "port_3 = pd.read_csv('estaticos_portfolio3.csv', usecols=['id']).merge(market, on='id', how='inner')"
   ]
  },
  {
   "cell_type": "markdown",
   "metadata": {},
   "source": [
    "### Criando relatório de EDA com Pandas profiling"
   ]
  },
  {
   "cell_type": "code",
   "execution_count": 7,
   "metadata": {},
   "outputs": [
    {
     "data": {
      "application/vnd.jupyter.widget-view+json": {
       "model_id": "15a72cc3cb5048acb2a6ecc9fc21cf11",
       "version_major": 2,
       "version_minor": 0
      },
      "text/plain": [
       "HBox(children=(FloatProgress(value=0.0, description='Summarize dataset', max=190.0, style=ProgressStyle(descri…"
      ]
     },
     "metadata": {},
     "output_type": "display_data"
    },
    {
     "name": "stdout",
     "output_type": "stream",
     "text": [
      "\n"
     ]
    },
    {
     "data": {
      "application/vnd.jupyter.widget-view+json": {
       "model_id": "33b056ddddb542398999da1af0a15ef6",
       "version_major": 2,
       "version_minor": 0
      },
      "text/plain": [
       "HBox(children=(FloatProgress(value=0.0, description='Generate report structure', max=1.0, style=ProgressStyle(…"
      ]
     },
     "metadata": {},
     "output_type": "display_data"
    },
    {
     "name": "stdout",
     "output_type": "stream",
     "text": [
      "\n"
     ]
    },
    {
     "data": {
      "application/vnd.jupyter.widget-view+json": {
       "model_id": "e2a2d0a98dec4505a1a62de3870d8ea5",
       "version_major": 2,
       "version_minor": 0
      },
      "text/plain": [
       "HBox(children=(FloatProgress(value=0.0, description='Render HTML', max=1.0, style=ProgressStyle(description_wi…"
      ]
     },
     "metadata": {},
     "output_type": "display_data"
    },
    {
     "name": "stdout",
     "output_type": "stream",
     "text": [
      "\n"
     ]
    },
    {
     "data": {
      "application/vnd.jupyter.widget-view+json": {
       "model_id": "64718dc26217400f95ec4447077c203c",
       "version_major": 2,
       "version_minor": 0
      },
      "text/plain": [
       "HBox(children=(FloatProgress(value=0.0, description='Export report to file', max=1.0, style=ProgressStyle(desc…"
      ]
     },
     "metadata": {},
     "output_type": "display_data"
    },
    {
     "name": "stdout",
     "output_type": "stream",
     "text": [
      "\n"
     ]
    }
   ],
   "source": [
    "profile = ProfileReport(market, minimal=True)\n",
    "profile.to_file(\"pp-market-eda.html\")"
   ]
  },
  {
   "cell_type": "markdown",
   "metadata": {},
   "source": [
    "### Funções criadas para auxiliar a resolução do problema"
   ]
  },
  {
   "cell_type": "code",
   "execution_count": 8,
   "metadata": {},
   "outputs": [],
   "source": [
    "def exploracao(df):\n",
    "    \"\"\"\n",
    "    Gera uma dataframe com informações relevantes sobre o mesmo.\n",
    "    \n",
    "    :param df: pd.DataFrame para ser realizada a exploração\n",
    "    \"\"\"\n",
    "    \n",
    "    exploracao = pd.DataFrame({\n",
    "        'coluna' : df.columns,\n",
    "        'tipos' : df.dtypes,\n",
    "        'qtd_null' : df.isnull().sum()\n",
    "    })\n",
    "    \n",
    "    exploracao['percent_null'] = np.round((exploracao.qtd_null / df.shape[0]) * 100, 4)\n",
    "    \n",
    "    return exploracao.sort_values(by='qtd_null', ascending=False)"
   ]
  },
  {
   "cell_type": "code",
   "execution_count": 9,
   "metadata": {},
   "outputs": [],
   "source": [
    "def remover_colunas():\n",
    "    \n",
    "    # Razões para excluir, analises de acordo com os relatórios gerados com Pandas Profiling e Sweetviz\n",
    "    \n",
    "    # Alta cardinalidade\n",
    "    # 'de_natureza_juridica', 'dt_situacao', 'nm_divisao', 'nm_micro_regiao'\n",
    "    \n",
    "    # Como aparenta ser uma coluna atualizada mês a mês, existe uma probabilidade de estar desatualizada\n",
    "    # 'nu_meses_rescencia', 'de_saude_rescencia'\n",
    "    \n",
    "    # Existe coluna com esses dados de forma numerica, por esse motivo também vamos excluir estas\n",
    "    # 'de_faixa_faturamento_estimado_grupo', 'de_faixa_faturamento_estimado', 'idade_emp_cat', 'fl_veiculo'\n",
    "    \n",
    "    # Colunas sem relevancia\n",
    "    # 'fl_email', 'fl_telefone'\n",
    "    \n",
    "    # A matriz da empresa acredito que não vá ter relevância, então mantendo apenas a filial\n",
    "    # sg_uf_matriz\n",
    "    \n",
    "    # Coluna com apenas valores false\n",
    "    # fl_epp\n",
    "    \n",
    "    \n",
    "    colunas = ['de_natureza_juridica', 'dt_situacao', 'nm_divisao', 'nm_micro_regiao', 'nu_meses_rescencia',\n",
    "               'de_saude_rescencia', 'de_faixa_faturamento_estimado_grupo', 'de_faixa_faturamento_estimado',\n",
    "               'idade_emp_cat', 'fl_veiculo', 'fl_email', 'fl_telefone', 'sg_uf_matriz', 'fl_epp' ]\n",
    "    \n",
    "    return colunas"
   ]
  },
  {
   "cell_type": "code",
   "execution_count": 10,
   "metadata": {},
   "outputs": [],
   "source": [
    "def filter_columns(df):\n",
    "    \"\"\"\n",
    "    Retorna um pd.DataFrame com as features que tem 80% de valores não nulos.\n",
    "    \n",
    "    :param df: pd.DataFrame para ser realizada a filtragem das features\n",
    "    \"\"\"\n",
    "    \n",
    "    df_exploracao = exploracao(df)\n",
    "    features = df_exploracao[(df_exploracao.percent_null < 20.0)]['coluna']\n",
    "    df = df[features]\n",
    "    \n",
    "    df = df[df.columns.difference(remover_colunas())]\n",
    "\n",
    "    return df"
   ]
  },
  {
   "cell_type": "code",
   "execution_count": 11,
   "metadata": {},
   "outputs": [],
   "source": [
    "def encoding_obj(df, le):\n",
    "    \"\"\"\n",
    "    Retorna pd.DataFrame com as colunas 'object' e 'booleanas' realizado o encoding\n",
    "    \n",
    "    :param df: pd.DataFrame que vai ter as colunas realizado o encoding\n",
    "    :param le: instancia da classe LabelEnconde() no qual fará o encoding\n",
    "    \"\"\"\n",
    "    \n",
    "    colunas_obj = df.columns[df.dtypes == object]\n",
    "    df[colunas_obj] = df[colunas_obj].apply(lambda col: le.fit_transform(col) if col.name != 'id' else col)\n",
    "    \n",
    "    colunas_bool = df.columns[df.dtypes == bool]\n",
    "    df[colunas_bool] = df[colunas_bool].apply(lambda col: le.fit_transform(col))\n",
    "\n",
    "    return df"
   ]
  },
  {
   "cell_type": "code",
   "execution_count": 12,
   "metadata": {},
   "outputs": [],
   "source": [
    "def treino_teste_port(df):\n",
    "    \"\"\"\n",
    "    Retorna dois dataframes, treino e teste que foi divido\n",
    "    \n",
    "    :param df: pd.Dataframe o dataframe que será divido em treino e teste\n",
    "    \"\"\"\n",
    "    \n",
    "    X_train, X_test, y_train, y_test = train_test_split(\n",
    "    df, list(range(len(df))), test_size=0.3, random_state=1)\n",
    "    \n",
    "    return X_train, X_test"
   ]
  },
  {
   "cell_type": "code",
   "execution_count": 13,
   "metadata": {},
   "outputs": [],
   "source": [
    "def lista_simples(lista):\n",
    "    \"\"\"\n",
    "    Transforma a lista de listas em uma lista simples\n",
    "    \n",
    "    :param lista: lista de listas \n",
    "    \"\"\"\n",
    "    if isinstance(lista, list):\n",
    "        return [sub_elem for elem in lista for sub_elem in lista_simples(elem)]\n",
    "    else:\n",
    "        return [lista]"
   ]
  },
  {
   "cell_type": "code",
   "execution_count": 14,
   "metadata": {},
   "outputs": [],
   "source": [
    "def probabilidade(x, divisor):\n",
    "    \"\"\"\n",
    "    Calcula a probabilidade de acerto da recomendação gerada pelo modelo\n",
    "    \n",
    "    :param x: int quantidade de acertos\n",
    "    :divisor: int quantidade de linhas do dataframe de teste\n",
    "    \"\"\"\n",
    "    \n",
    "    resultado = np.round((x * 100) / divisor, 2)\n",
    "    \n",
    "    print(f'A probabilidade de acerto foi de: {resultado}%')"
   ]
  },
  {
   "cell_type": "code",
   "execution_count": 15,
   "metadata": {},
   "outputs": [],
   "source": [
    "def fillna_columns(df):\n",
    "    \"\"\"\n",
    "    Tratar os valores nulos do daframe\n",
    "    \n",
    "    Esta função foi baseada na função do github: pvoloshyn\n",
    "    \n",
    "    :param df: pd.Dataframe dataframe que será tratado os valores nulos\n",
    "    \"\"\"\n",
    "    \n",
    "    for col in df.columns:\n",
    "        \n",
    "        if 'fl_' in col:\n",
    "            if {'SIM', 'NAO'} <= set(df[col]):\n",
    "                df[col] = (df[col] == 'SIM')\n",
    "            df[col] = df[col].fillna(False)  \n",
    "            \n",
    "        elif df[col].dtype == 'object':\n",
    "            df[col] = df[col].fillna('SEM INFORMACAO' if 'de_' in col else 'OUTRA')\n",
    "            \n",
    "        elif df[col].dtype == 'float':\n",
    "            mean = df[col].mean()\n",
    "            df[col] = df[col].fillna(mean)\n",
    "\n",
    "        else:\n",
    "             pass\n",
    "            \n",
    "    return df"
   ]
  },
  {
   "cell_type": "code",
   "execution_count": 16,
   "metadata": {},
   "outputs": [],
   "source": [
    "def knn(X_train, modelo):\n",
    "    \"\"\"\n",
    "    Retorna duas listas, indices_knn e distancias_knn. Com informações dos vizinhos recomendados pelo modelo\n",
    "    \n",
    "    :param X_train: pd.Dataframe de treino para realizar a validação\n",
    "    :param modelo: NearestNeighbors modelo treinado\n",
    "    \"\"\"\n",
    "    \n",
    "    indices_knn =  []\n",
    "    distancias_knn = []\n",
    "    for i in range(X_train.shape[0]):\n",
    "        distancias, indices = modelo.kneighbors([X_train.loc[X_train.index[i]]], n_neighbors=5)\n",
    "        indices_knn.append(list(indices[0]))\n",
    "        distancias_knn.append(list(distancias[0]))\n",
    "        \n",
    "    return indices_knn, distancias_knn"
   ]
  },
  {
   "cell_type": "code",
   "execution_count": 17,
   "metadata": {},
   "outputs": [],
   "source": [
    "def criar_df_recomendacao(lista_indices_knn, lista_distancias_knn, market):\n",
    "    \"\"\"\n",
    "    Retorna um pd.Dataframe com os leads\n",
    "    \n",
    "    :param lista_indices_knn: lista de indices mais proximos\n",
    "    :param lista_distancias_knn: lista das distancias de cada indice\n",
    "    :param market: pd.Dataframe dataframe base\n",
    "    \"\"\"\n",
    "    \n",
    "    results = list(zip(lista_indices_knn, lista_distancias_knn))\n",
    "    df_results = pd.DataFrame(results, columns=['indices', 'distancias'])\n",
    "    \n",
    "    top = df_results.groupby('indices').agg(count=('indices', 'count'), distances=('distancias', 'min'))\\\n",
    "                                    .sort_values(['count', 'distances'], ascending=[False, True]).index.values\n",
    "\n",
    "    \n",
    "    df_knn = market.loc[top].set_index('id')\n",
    "    df_knn = df_knn[~df_knn.index.isin(X_train.index)]\n",
    "    \n",
    "    return df_knn"
   ]
  },
  {
   "cell_type": "markdown",
   "metadata": {},
   "source": [
    "## Conhecendo mais sobre os dados"
   ]
  },
  {
   "cell_type": "code",
   "execution_count": 18,
   "metadata": {},
   "outputs": [
    {
     "data": {
      "text/html": [
       "<div>\n",
       "<style scoped>\n",
       "    .dataframe tbody tr th:only-of-type {\n",
       "        vertical-align: middle;\n",
       "    }\n",
       "\n",
       "    .dataframe tbody tr th {\n",
       "        vertical-align: top;\n",
       "    }\n",
       "\n",
       "    .dataframe thead th {\n",
       "        text-align: right;\n",
       "    }\n",
       "</style>\n",
       "<table border=\"1\" class=\"dataframe\">\n",
       "  <thead>\n",
       "    <tr style=\"text-align: right;\">\n",
       "      <th></th>\n",
       "      <th>coluna</th>\n",
       "      <th>tipos</th>\n",
       "      <th>qtd_null</th>\n",
       "      <th>percent_null</th>\n",
       "    </tr>\n",
       "  </thead>\n",
       "  <tbody>\n",
       "    <tr>\n",
       "      <th>qt_alteracao_socio_total</th>\n",
       "      <td>qt_alteracao_socio_total</td>\n",
       "      <td>float64</td>\n",
       "      <td>462298</td>\n",
       "      <td>100.0</td>\n",
       "    </tr>\n",
       "    <tr>\n",
       "      <th>qt_alteracao_socio_90d</th>\n",
       "      <td>qt_alteracao_socio_90d</td>\n",
       "      <td>float64</td>\n",
       "      <td>462298</td>\n",
       "      <td>100.0</td>\n",
       "    </tr>\n",
       "    <tr>\n",
       "      <th>grau_instrucao_macro_desconhecido</th>\n",
       "      <td>grau_instrucao_macro_desconhecido</td>\n",
       "      <td>float64</td>\n",
       "      <td>462298</td>\n",
       "      <td>100.0</td>\n",
       "    </tr>\n",
       "    <tr>\n",
       "      <th>qt_alteracao_socio_180d</th>\n",
       "      <td>qt_alteracao_socio_180d</td>\n",
       "      <td>float64</td>\n",
       "      <td>462298</td>\n",
       "      <td>100.0</td>\n",
       "    </tr>\n",
       "    <tr>\n",
       "      <th>qt_alteracao_socio_365d</th>\n",
       "      <td>qt_alteracao_socio_365d</td>\n",
       "      <td>float64</td>\n",
       "      <td>462298</td>\n",
       "      <td>100.0</td>\n",
       "    </tr>\n",
       "    <tr>\n",
       "      <th>...</th>\n",
       "      <td>...</td>\n",
       "      <td>...</td>\n",
       "      <td>...</td>\n",
       "      <td>...</td>\n",
       "    </tr>\n",
       "    <tr>\n",
       "      <th>fl_ltda</th>\n",
       "      <td>fl_ltda</td>\n",
       "      <td>bool</td>\n",
       "      <td>0</td>\n",
       "      <td>0.0</td>\n",
       "    </tr>\n",
       "    <tr>\n",
       "      <th>fl_st_especial</th>\n",
       "      <td>fl_st_especial</td>\n",
       "      <td>bool</td>\n",
       "      <td>0</td>\n",
       "      <td>0.0</td>\n",
       "    </tr>\n",
       "    <tr>\n",
       "      <th>fl_email</th>\n",
       "      <td>fl_email</td>\n",
       "      <td>bool</td>\n",
       "      <td>0</td>\n",
       "      <td>0.0</td>\n",
       "    </tr>\n",
       "    <tr>\n",
       "      <th>fl_telefone</th>\n",
       "      <td>fl_telefone</td>\n",
       "      <td>bool</td>\n",
       "      <td>0</td>\n",
       "      <td>0.0</td>\n",
       "    </tr>\n",
       "    <tr>\n",
       "      <th>qt_filiais</th>\n",
       "      <td>qt_filiais</td>\n",
       "      <td>int64</td>\n",
       "      <td>0</td>\n",
       "      <td>0.0</td>\n",
       "    </tr>\n",
       "  </tbody>\n",
       "</table>\n",
       "<p>181 rows × 4 columns</p>\n",
       "</div>"
      ],
      "text/plain": [
       "                                                              coluna    tipos  \\\n",
       "qt_alteracao_socio_total                    qt_alteracao_socio_total  float64   \n",
       "qt_alteracao_socio_90d                        qt_alteracao_socio_90d  float64   \n",
       "grau_instrucao_macro_desconhecido  grau_instrucao_macro_desconhecido  float64   \n",
       "qt_alteracao_socio_180d                      qt_alteracao_socio_180d  float64   \n",
       "qt_alteracao_socio_365d                      qt_alteracao_socio_365d  float64   \n",
       "...                                                              ...      ...   \n",
       "fl_ltda                                                      fl_ltda     bool   \n",
       "fl_st_especial                                        fl_st_especial     bool   \n",
       "fl_email                                                    fl_email     bool   \n",
       "fl_telefone                                              fl_telefone     bool   \n",
       "qt_filiais                                                qt_filiais    int64   \n",
       "\n",
       "                                   qtd_null  percent_null  \n",
       "qt_alteracao_socio_total             462298         100.0  \n",
       "qt_alteracao_socio_90d               462298         100.0  \n",
       "grau_instrucao_macro_desconhecido    462298         100.0  \n",
       "qt_alteracao_socio_180d              462298         100.0  \n",
       "qt_alteracao_socio_365d              462298         100.0  \n",
       "...                                     ...           ...  \n",
       "fl_ltda                                   0           0.0  \n",
       "fl_st_especial                            0           0.0  \n",
       "fl_email                                  0           0.0  \n",
       "fl_telefone                               0           0.0  \n",
       "qt_filiais                                0           0.0  \n",
       "\n",
       "[181 rows x 4 columns]"
      ]
     },
     "execution_count": 18,
     "metadata": {},
     "output_type": "execute_result"
    }
   ],
   "source": [
    "exploracao(market)"
   ]
  },
  {
   "cell_type": "code",
   "execution_count": 19,
   "metadata": {},
   "outputs": [
    {
     "data": {
      "text/html": [
       "<div>\n",
       "<style scoped>\n",
       "    .dataframe tbody tr th:only-of-type {\n",
       "        vertical-align: middle;\n",
       "    }\n",
       "\n",
       "    .dataframe tbody tr th {\n",
       "        vertical-align: top;\n",
       "    }\n",
       "\n",
       "    .dataframe thead th {\n",
       "        text-align: right;\n",
       "    }\n",
       "</style>\n",
       "<table border=\"1\" class=\"dataframe\">\n",
       "  <thead>\n",
       "    <tr style=\"text-align: right;\">\n",
       "      <th></th>\n",
       "      <th>coluna</th>\n",
       "      <th>tipos</th>\n",
       "      <th>qtd_null</th>\n",
       "      <th>percent_null</th>\n",
       "    </tr>\n",
       "  </thead>\n",
       "  <tbody>\n",
       "    <tr>\n",
       "      <th>vl_total_veiculos_antt_grupo</th>\n",
       "      <td>vl_total_veiculos_antt_grupo</td>\n",
       "      <td>float64</td>\n",
       "      <td>555</td>\n",
       "      <td>100.0</td>\n",
       "    </tr>\n",
       "    <tr>\n",
       "      <th>idade_media_coligadas_baixadas</th>\n",
       "      <td>idade_media_coligadas_baixadas</td>\n",
       "      <td>float64</td>\n",
       "      <td>555</td>\n",
       "      <td>100.0</td>\n",
       "    </tr>\n",
       "    <tr>\n",
       "      <th>vl_total_tancagem_grupo</th>\n",
       "      <td>vl_total_tancagem_grupo</td>\n",
       "      <td>float64</td>\n",
       "      <td>555</td>\n",
       "      <td>100.0</td>\n",
       "    </tr>\n",
       "    <tr>\n",
       "      <th>coligada_mais_antiga_baixada</th>\n",
       "      <td>coligada_mais_antiga_baixada</td>\n",
       "      <td>float64</td>\n",
       "      <td>555</td>\n",
       "      <td>100.0</td>\n",
       "    </tr>\n",
       "    <tr>\n",
       "      <th>coligada_mais_nova_baixada</th>\n",
       "      <td>coligada_mais_nova_baixada</td>\n",
       "      <td>float64</td>\n",
       "      <td>555</td>\n",
       "      <td>100.0</td>\n",
       "    </tr>\n",
       "    <tr>\n",
       "      <th>...</th>\n",
       "      <td>...</td>\n",
       "      <td>...</td>\n",
       "      <td>...</td>\n",
       "      <td>...</td>\n",
       "    </tr>\n",
       "    <tr>\n",
       "      <th>vl_total_veiculos_pesados_grupo</th>\n",
       "      <td>vl_total_veiculos_pesados_grupo</td>\n",
       "      <td>float64</td>\n",
       "      <td>0</td>\n",
       "      <td>0.0</td>\n",
       "    </tr>\n",
       "    <tr>\n",
       "      <th>vl_total_veiculos_leves_grupo</th>\n",
       "      <td>vl_total_veiculos_leves_grupo</td>\n",
       "      <td>float64</td>\n",
       "      <td>0</td>\n",
       "      <td>0.0</td>\n",
       "    </tr>\n",
       "    <tr>\n",
       "      <th>sg_uf_matriz</th>\n",
       "      <td>sg_uf_matriz</td>\n",
       "      <td>object</td>\n",
       "      <td>0</td>\n",
       "      <td>0.0</td>\n",
       "    </tr>\n",
       "    <tr>\n",
       "      <th>fl_simples_irregular</th>\n",
       "      <td>fl_simples_irregular</td>\n",
       "      <td>object</td>\n",
       "      <td>0</td>\n",
       "      <td>0.0</td>\n",
       "    </tr>\n",
       "    <tr>\n",
       "      <th>qt_filiais</th>\n",
       "      <td>qt_filiais</td>\n",
       "      <td>int64</td>\n",
       "      <td>0</td>\n",
       "      <td>0.0</td>\n",
       "    </tr>\n",
       "  </tbody>\n",
       "</table>\n",
       "<p>181 rows × 4 columns</p>\n",
       "</div>"
      ],
      "text/plain": [
       "                                                          coluna    tipos  \\\n",
       "vl_total_veiculos_antt_grupo        vl_total_veiculos_antt_grupo  float64   \n",
       "idade_media_coligadas_baixadas    idade_media_coligadas_baixadas  float64   \n",
       "vl_total_tancagem_grupo                  vl_total_tancagem_grupo  float64   \n",
       "coligada_mais_antiga_baixada        coligada_mais_antiga_baixada  float64   \n",
       "coligada_mais_nova_baixada            coligada_mais_nova_baixada  float64   \n",
       "...                                                          ...      ...   \n",
       "vl_total_veiculos_pesados_grupo  vl_total_veiculos_pesados_grupo  float64   \n",
       "vl_total_veiculos_leves_grupo      vl_total_veiculos_leves_grupo  float64   \n",
       "sg_uf_matriz                                        sg_uf_matriz   object   \n",
       "fl_simples_irregular                        fl_simples_irregular   object   \n",
       "qt_filiais                                            qt_filiais    int64   \n",
       "\n",
       "                                 qtd_null  percent_null  \n",
       "vl_total_veiculos_antt_grupo          555         100.0  \n",
       "idade_media_coligadas_baixadas        555         100.0  \n",
       "vl_total_tancagem_grupo               555         100.0  \n",
       "coligada_mais_antiga_baixada          555         100.0  \n",
       "coligada_mais_nova_baixada            555         100.0  \n",
       "...                                   ...           ...  \n",
       "vl_total_veiculos_pesados_grupo         0           0.0  \n",
       "vl_total_veiculos_leves_grupo           0           0.0  \n",
       "sg_uf_matriz                            0           0.0  \n",
       "fl_simples_irregular                    0           0.0  \n",
       "qt_filiais                              0           0.0  \n",
       "\n",
       "[181 rows x 4 columns]"
      ]
     },
     "execution_count": 19,
     "metadata": {},
     "output_type": "execute_result"
    }
   ],
   "source": [
    "exploracao(port_1)"
   ]
  },
  {
   "cell_type": "code",
   "execution_count": 20,
   "metadata": {},
   "outputs": [
    {
     "data": {
      "text/html": [
       "<div>\n",
       "<style scoped>\n",
       "    .dataframe tbody tr th:only-of-type {\n",
       "        vertical-align: middle;\n",
       "    }\n",
       "\n",
       "    .dataframe tbody tr th {\n",
       "        vertical-align: top;\n",
       "    }\n",
       "\n",
       "    .dataframe thead th {\n",
       "        text-align: right;\n",
       "    }\n",
       "</style>\n",
       "<table border=\"1\" class=\"dataframe\">\n",
       "  <thead>\n",
       "    <tr style=\"text-align: right;\">\n",
       "      <th></th>\n",
       "      <th>coluna</th>\n",
       "      <th>tipos</th>\n",
       "      <th>qtd_null</th>\n",
       "      <th>percent_null</th>\n",
       "    </tr>\n",
       "  </thead>\n",
       "  <tbody>\n",
       "    <tr>\n",
       "      <th>qt_alteracao_socio_180d</th>\n",
       "      <td>qt_alteracao_socio_180d</td>\n",
       "      <td>float64</td>\n",
       "      <td>566</td>\n",
       "      <td>100.0</td>\n",
       "    </tr>\n",
       "    <tr>\n",
       "      <th>qt_alteracao_socio_total</th>\n",
       "      <td>qt_alteracao_socio_total</td>\n",
       "      <td>float64</td>\n",
       "      <td>566</td>\n",
       "      <td>100.0</td>\n",
       "    </tr>\n",
       "    <tr>\n",
       "      <th>qt_alteracao_socio_365d</th>\n",
       "      <td>qt_alteracao_socio_365d</td>\n",
       "      <td>float64</td>\n",
       "      <td>566</td>\n",
       "      <td>100.0</td>\n",
       "    </tr>\n",
       "    <tr>\n",
       "      <th>grau_instrucao_macro_desconhecido</th>\n",
       "      <td>grau_instrucao_macro_desconhecido</td>\n",
       "      <td>float64</td>\n",
       "      <td>566</td>\n",
       "      <td>100.0</td>\n",
       "    </tr>\n",
       "    <tr>\n",
       "      <th>qt_alteracao_socio_90d</th>\n",
       "      <td>qt_alteracao_socio_90d</td>\n",
       "      <td>float64</td>\n",
       "      <td>566</td>\n",
       "      <td>100.0</td>\n",
       "    </tr>\n",
       "    <tr>\n",
       "      <th>...</th>\n",
       "      <td>...</td>\n",
       "      <td>...</td>\n",
       "      <td>...</td>\n",
       "      <td>...</td>\n",
       "    </tr>\n",
       "    <tr>\n",
       "      <th>vl_total_veiculos_pesados_grupo</th>\n",
       "      <td>vl_total_veiculos_pesados_grupo</td>\n",
       "      <td>float64</td>\n",
       "      <td>0</td>\n",
       "      <td>0.0</td>\n",
       "    </tr>\n",
       "    <tr>\n",
       "      <th>fl_optante_simples</th>\n",
       "      <td>fl_optante_simples</td>\n",
       "      <td>object</td>\n",
       "      <td>0</td>\n",
       "      <td>0.0</td>\n",
       "    </tr>\n",
       "    <tr>\n",
       "      <th>fl_veiculo</th>\n",
       "      <td>fl_veiculo</td>\n",
       "      <td>object</td>\n",
       "      <td>0</td>\n",
       "      <td>0.0</td>\n",
       "    </tr>\n",
       "    <tr>\n",
       "      <th>fl_antt</th>\n",
       "      <td>fl_antt</td>\n",
       "      <td>object</td>\n",
       "      <td>0</td>\n",
       "      <td>0.0</td>\n",
       "    </tr>\n",
       "    <tr>\n",
       "      <th>qt_filiais</th>\n",
       "      <td>qt_filiais</td>\n",
       "      <td>int64</td>\n",
       "      <td>0</td>\n",
       "      <td>0.0</td>\n",
       "    </tr>\n",
       "  </tbody>\n",
       "</table>\n",
       "<p>181 rows × 4 columns</p>\n",
       "</div>"
      ],
      "text/plain": [
       "                                                              coluna    tipos  \\\n",
       "qt_alteracao_socio_180d                      qt_alteracao_socio_180d  float64   \n",
       "qt_alteracao_socio_total                    qt_alteracao_socio_total  float64   \n",
       "qt_alteracao_socio_365d                      qt_alteracao_socio_365d  float64   \n",
       "grau_instrucao_macro_desconhecido  grau_instrucao_macro_desconhecido  float64   \n",
       "qt_alteracao_socio_90d                        qt_alteracao_socio_90d  float64   \n",
       "...                                                              ...      ...   \n",
       "vl_total_veiculos_pesados_grupo      vl_total_veiculos_pesados_grupo  float64   \n",
       "fl_optante_simples                                fl_optante_simples   object   \n",
       "fl_veiculo                                                fl_veiculo   object   \n",
       "fl_antt                                                      fl_antt   object   \n",
       "qt_filiais                                                qt_filiais    int64   \n",
       "\n",
       "                                   qtd_null  percent_null  \n",
       "qt_alteracao_socio_180d                 566         100.0  \n",
       "qt_alteracao_socio_total                566         100.0  \n",
       "qt_alteracao_socio_365d                 566         100.0  \n",
       "grau_instrucao_macro_desconhecido       566         100.0  \n",
       "qt_alteracao_socio_90d                  566         100.0  \n",
       "...                                     ...           ...  \n",
       "vl_total_veiculos_pesados_grupo           0           0.0  \n",
       "fl_optante_simples                        0           0.0  \n",
       "fl_veiculo                                0           0.0  \n",
       "fl_antt                                   0           0.0  \n",
       "qt_filiais                                0           0.0  \n",
       "\n",
       "[181 rows x 4 columns]"
      ]
     },
     "execution_count": 20,
     "metadata": {},
     "output_type": "execute_result"
    }
   ],
   "source": [
    "exploracao(port_2)"
   ]
  },
  {
   "cell_type": "code",
   "execution_count": 21,
   "metadata": {},
   "outputs": [
    {
     "data": {
      "text/html": [
       "<div>\n",
       "<style scoped>\n",
       "    .dataframe tbody tr th:only-of-type {\n",
       "        vertical-align: middle;\n",
       "    }\n",
       "\n",
       "    .dataframe tbody tr th {\n",
       "        vertical-align: top;\n",
       "    }\n",
       "\n",
       "    .dataframe thead th {\n",
       "        text-align: right;\n",
       "    }\n",
       "</style>\n",
       "<table border=\"1\" class=\"dataframe\">\n",
       "  <thead>\n",
       "    <tr style=\"text-align: right;\">\n",
       "      <th></th>\n",
       "      <th>coluna</th>\n",
       "      <th>tipos</th>\n",
       "      <th>qtd_null</th>\n",
       "      <th>percent_null</th>\n",
       "    </tr>\n",
       "  </thead>\n",
       "  <tbody>\n",
       "    <tr>\n",
       "      <th>vl_total_veiculos_antt_grupo</th>\n",
       "      <td>vl_total_veiculos_antt_grupo</td>\n",
       "      <td>float64</td>\n",
       "      <td>265</td>\n",
       "      <td>100.0</td>\n",
       "    </tr>\n",
       "    <tr>\n",
       "      <th>qt_alteracao_socio_90d</th>\n",
       "      <td>qt_alteracao_socio_90d</td>\n",
       "      <td>float64</td>\n",
       "      <td>265</td>\n",
       "      <td>100.0</td>\n",
       "    </tr>\n",
       "    <tr>\n",
       "      <th>qt_alteracao_socio_365d</th>\n",
       "      <td>qt_alteracao_socio_365d</td>\n",
       "      <td>float64</td>\n",
       "      <td>265</td>\n",
       "      <td>100.0</td>\n",
       "    </tr>\n",
       "    <tr>\n",
       "      <th>vl_total_veiculos_antt</th>\n",
       "      <td>vl_total_veiculos_antt</td>\n",
       "      <td>float64</td>\n",
       "      <td>265</td>\n",
       "      <td>100.0</td>\n",
       "    </tr>\n",
       "    <tr>\n",
       "      <th>qt_alteracao_socio_180d</th>\n",
       "      <td>qt_alteracao_socio_180d</td>\n",
       "      <td>float64</td>\n",
       "      <td>265</td>\n",
       "      <td>100.0</td>\n",
       "    </tr>\n",
       "    <tr>\n",
       "      <th>...</th>\n",
       "      <td>...</td>\n",
       "      <td>...</td>\n",
       "      <td>...</td>\n",
       "      <td>...</td>\n",
       "    </tr>\n",
       "    <tr>\n",
       "      <th>vl_total_veiculos_pesados_grupo</th>\n",
       "      <td>vl_total_veiculos_pesados_grupo</td>\n",
       "      <td>float64</td>\n",
       "      <td>0</td>\n",
       "      <td>0.0</td>\n",
       "    </tr>\n",
       "    <tr>\n",
       "      <th>fl_veiculo</th>\n",
       "      <td>fl_veiculo</td>\n",
       "      <td>object</td>\n",
       "      <td>0</td>\n",
       "      <td>0.0</td>\n",
       "    </tr>\n",
       "    <tr>\n",
       "      <th>fl_antt</th>\n",
       "      <td>fl_antt</td>\n",
       "      <td>object</td>\n",
       "      <td>0</td>\n",
       "      <td>0.0</td>\n",
       "    </tr>\n",
       "    <tr>\n",
       "      <th>fl_spa</th>\n",
       "      <td>fl_spa</td>\n",
       "      <td>object</td>\n",
       "      <td>0</td>\n",
       "      <td>0.0</td>\n",
       "    </tr>\n",
       "    <tr>\n",
       "      <th>qt_filiais</th>\n",
       "      <td>qt_filiais</td>\n",
       "      <td>int64</td>\n",
       "      <td>0</td>\n",
       "      <td>0.0</td>\n",
       "    </tr>\n",
       "  </tbody>\n",
       "</table>\n",
       "<p>181 rows × 4 columns</p>\n",
       "</div>"
      ],
      "text/plain": [
       "                                                          coluna    tipos  \\\n",
       "vl_total_veiculos_antt_grupo        vl_total_veiculos_antt_grupo  float64   \n",
       "qt_alteracao_socio_90d                    qt_alteracao_socio_90d  float64   \n",
       "qt_alteracao_socio_365d                  qt_alteracao_socio_365d  float64   \n",
       "vl_total_veiculos_antt                    vl_total_veiculos_antt  float64   \n",
       "qt_alteracao_socio_180d                  qt_alteracao_socio_180d  float64   \n",
       "...                                                          ...      ...   \n",
       "vl_total_veiculos_pesados_grupo  vl_total_veiculos_pesados_grupo  float64   \n",
       "fl_veiculo                                            fl_veiculo   object   \n",
       "fl_antt                                                  fl_antt   object   \n",
       "fl_spa                                                    fl_spa   object   \n",
       "qt_filiais                                            qt_filiais    int64   \n",
       "\n",
       "                                 qtd_null  percent_null  \n",
       "vl_total_veiculos_antt_grupo          265         100.0  \n",
       "qt_alteracao_socio_90d                265         100.0  \n",
       "qt_alteracao_socio_365d               265         100.0  \n",
       "vl_total_veiculos_antt                265         100.0  \n",
       "qt_alteracao_socio_180d               265         100.0  \n",
       "...                                   ...           ...  \n",
       "vl_total_veiculos_pesados_grupo         0           0.0  \n",
       "fl_veiculo                              0           0.0  \n",
       "fl_antt                                 0           0.0  \n",
       "fl_spa                                  0           0.0  \n",
       "qt_filiais                              0           0.0  \n",
       "\n",
       "[181 rows x 4 columns]"
      ]
     },
     "execution_count": 21,
     "metadata": {},
     "output_type": "execute_result"
    }
   ],
   "source": [
    "exploracao(port_3)"
   ]
  },
  {
   "cell_type": "markdown",
   "metadata": {},
   "source": [
    "### Selecionando colunas relevantes"
   ]
  },
  {
   "cell_type": "code",
   "execution_count": 22,
   "metadata": {},
   "outputs": [],
   "source": [
    "market = filter_columns(market)"
   ]
  },
  {
   "cell_type": "markdown",
   "metadata": {},
   "source": [
    "### Preenchendo valores nulos"
   ]
  },
  {
   "cell_type": "code",
   "execution_count": 23,
   "metadata": {},
   "outputs": [],
   "source": [
    "market = fillna_columns(market)"
   ]
  },
  {
   "cell_type": "code",
   "execution_count": 24,
   "metadata": {},
   "outputs": [
    {
     "data": {
      "text/html": [
       "<div>\n",
       "<style scoped>\n",
       "    .dataframe tbody tr th:only-of-type {\n",
       "        vertical-align: middle;\n",
       "    }\n",
       "\n",
       "    .dataframe tbody tr th {\n",
       "        vertical-align: top;\n",
       "    }\n",
       "\n",
       "    .dataframe thead th {\n",
       "        text-align: right;\n",
       "    }\n",
       "</style>\n",
       "<table border=\"1\" class=\"dataframe\">\n",
       "  <thead>\n",
       "    <tr style=\"text-align: right;\">\n",
       "      <th></th>\n",
       "      <th>coluna</th>\n",
       "      <th>tipos</th>\n",
       "      <th>qtd_null</th>\n",
       "      <th>percent_null</th>\n",
       "    </tr>\n",
       "  </thead>\n",
       "  <tbody>\n",
       "    <tr>\n",
       "      <th>de_nivel_atividade</th>\n",
       "      <td>de_nivel_atividade</td>\n",
       "      <td>object</td>\n",
       "      <td>0</td>\n",
       "      <td>0.0</td>\n",
       "    </tr>\n",
       "    <tr>\n",
       "      <th>de_ramo</th>\n",
       "      <td>de_ramo</td>\n",
       "      <td>object</td>\n",
       "      <td>0</td>\n",
       "      <td>0.0</td>\n",
       "    </tr>\n",
       "    <tr>\n",
       "      <th>vl_total_veiculos_leves_grupo</th>\n",
       "      <td>vl_total_veiculos_leves_grupo</td>\n",
       "      <td>float64</td>\n",
       "      <td>0</td>\n",
       "      <td>0.0</td>\n",
       "    </tr>\n",
       "    <tr>\n",
       "      <th>vl_faturamento_estimado_grupo_aux</th>\n",
       "      <td>vl_faturamento_estimado_grupo_aux</td>\n",
       "      <td>float64</td>\n",
       "      <td>0</td>\n",
       "      <td>0.0</td>\n",
       "    </tr>\n",
       "    <tr>\n",
       "      <th>vl_faturamento_estimado_aux</th>\n",
       "      <td>vl_faturamento_estimado_aux</td>\n",
       "      <td>float64</td>\n",
       "      <td>0</td>\n",
       "      <td>0.0</td>\n",
       "    </tr>\n",
       "    <tr>\n",
       "      <th>sg_uf</th>\n",
       "      <td>sg_uf</td>\n",
       "      <td>object</td>\n",
       "      <td>0</td>\n",
       "      <td>0.0</td>\n",
       "    </tr>\n",
       "    <tr>\n",
       "      <th>setor</th>\n",
       "      <td>setor</td>\n",
       "      <td>object</td>\n",
       "      <td>0</td>\n",
       "      <td>0.0</td>\n",
       "    </tr>\n",
       "    <tr>\n",
       "      <th>qt_filiais</th>\n",
       "      <td>qt_filiais</td>\n",
       "      <td>int64</td>\n",
       "      <td>0</td>\n",
       "      <td>0.0</td>\n",
       "    </tr>\n",
       "    <tr>\n",
       "      <th>nm_segmento</th>\n",
       "      <td>nm_segmento</td>\n",
       "      <td>object</td>\n",
       "      <td>0</td>\n",
       "      <td>0.0</td>\n",
       "    </tr>\n",
       "    <tr>\n",
       "      <th>nm_meso_regiao</th>\n",
       "      <td>nm_meso_regiao</td>\n",
       "      <td>object</td>\n",
       "      <td>0</td>\n",
       "      <td>0.0</td>\n",
       "    </tr>\n",
       "    <tr>\n",
       "      <th>natureza_juridica_macro</th>\n",
       "      <td>natureza_juridica_macro</td>\n",
       "      <td>object</td>\n",
       "      <td>0</td>\n",
       "      <td>0.0</td>\n",
       "    </tr>\n",
       "    <tr>\n",
       "      <th>idade_empresa_anos</th>\n",
       "      <td>idade_empresa_anos</td>\n",
       "      <td>float64</td>\n",
       "      <td>0</td>\n",
       "      <td>0.0</td>\n",
       "    </tr>\n",
       "    <tr>\n",
       "      <th>id</th>\n",
       "      <td>id</td>\n",
       "      <td>object</td>\n",
       "      <td>0</td>\n",
       "      <td>0.0</td>\n",
       "    </tr>\n",
       "    <tr>\n",
       "      <th>fl_st_especial</th>\n",
       "      <td>fl_st_especial</td>\n",
       "      <td>bool</td>\n",
       "      <td>0</td>\n",
       "      <td>0.0</td>\n",
       "    </tr>\n",
       "    <tr>\n",
       "      <th>fl_spa</th>\n",
       "      <td>fl_spa</td>\n",
       "      <td>bool</td>\n",
       "      <td>0</td>\n",
       "      <td>0.0</td>\n",
       "    </tr>\n",
       "    <tr>\n",
       "      <th>fl_simples_irregular</th>\n",
       "      <td>fl_simples_irregular</td>\n",
       "      <td>bool</td>\n",
       "      <td>0</td>\n",
       "      <td>0.0</td>\n",
       "    </tr>\n",
       "    <tr>\n",
       "      <th>fl_sa</th>\n",
       "      <td>fl_sa</td>\n",
       "      <td>bool</td>\n",
       "      <td>0</td>\n",
       "      <td>0.0</td>\n",
       "    </tr>\n",
       "    <tr>\n",
       "      <th>fl_rm</th>\n",
       "      <td>fl_rm</td>\n",
       "      <td>bool</td>\n",
       "      <td>0</td>\n",
       "      <td>0.0</td>\n",
       "    </tr>\n",
       "    <tr>\n",
       "      <th>fl_passivel_iss</th>\n",
       "      <td>fl_passivel_iss</td>\n",
       "      <td>bool</td>\n",
       "      <td>0</td>\n",
       "      <td>0.0</td>\n",
       "    </tr>\n",
       "    <tr>\n",
       "      <th>fl_optante_simples</th>\n",
       "      <td>fl_optante_simples</td>\n",
       "      <td>bool</td>\n",
       "      <td>0</td>\n",
       "      <td>0.0</td>\n",
       "    </tr>\n",
       "    <tr>\n",
       "      <th>fl_optante_simei</th>\n",
       "      <td>fl_optante_simei</td>\n",
       "      <td>bool</td>\n",
       "      <td>0</td>\n",
       "      <td>0.0</td>\n",
       "    </tr>\n",
       "    <tr>\n",
       "      <th>fl_mei</th>\n",
       "      <td>fl_mei</td>\n",
       "      <td>bool</td>\n",
       "      <td>0</td>\n",
       "      <td>0.0</td>\n",
       "    </tr>\n",
       "    <tr>\n",
       "      <th>fl_me</th>\n",
       "      <td>fl_me</td>\n",
       "      <td>bool</td>\n",
       "      <td>0</td>\n",
       "      <td>0.0</td>\n",
       "    </tr>\n",
       "    <tr>\n",
       "      <th>fl_matriz</th>\n",
       "      <td>fl_matriz</td>\n",
       "      <td>bool</td>\n",
       "      <td>0</td>\n",
       "      <td>0.0</td>\n",
       "    </tr>\n",
       "    <tr>\n",
       "      <th>fl_ltda</th>\n",
       "      <td>fl_ltda</td>\n",
       "      <td>bool</td>\n",
       "      <td>0</td>\n",
       "      <td>0.0</td>\n",
       "    </tr>\n",
       "    <tr>\n",
       "      <th>fl_antt</th>\n",
       "      <td>fl_antt</td>\n",
       "      <td>bool</td>\n",
       "      <td>0</td>\n",
       "      <td>0.0</td>\n",
       "    </tr>\n",
       "    <tr>\n",
       "      <th>de_saude_tributaria</th>\n",
       "      <td>de_saude_tributaria</td>\n",
       "      <td>object</td>\n",
       "      <td>0</td>\n",
       "      <td>0.0</td>\n",
       "    </tr>\n",
       "    <tr>\n",
       "      <th>vl_total_veiculos_pesados_grupo</th>\n",
       "      <td>vl_total_veiculos_pesados_grupo</td>\n",
       "      <td>float64</td>\n",
       "      <td>0</td>\n",
       "      <td>0.0</td>\n",
       "    </tr>\n",
       "  </tbody>\n",
       "</table>\n",
       "</div>"
      ],
      "text/plain": [
       "                                                              coluna    tipos  \\\n",
       "de_nivel_atividade                                de_nivel_atividade   object   \n",
       "de_ramo                                                      de_ramo   object   \n",
       "vl_total_veiculos_leves_grupo          vl_total_veiculos_leves_grupo  float64   \n",
       "vl_faturamento_estimado_grupo_aux  vl_faturamento_estimado_grupo_aux  float64   \n",
       "vl_faturamento_estimado_aux              vl_faturamento_estimado_aux  float64   \n",
       "sg_uf                                                          sg_uf   object   \n",
       "setor                                                          setor   object   \n",
       "qt_filiais                                                qt_filiais    int64   \n",
       "nm_segmento                                              nm_segmento   object   \n",
       "nm_meso_regiao                                        nm_meso_regiao   object   \n",
       "natureza_juridica_macro                      natureza_juridica_macro   object   \n",
       "idade_empresa_anos                                idade_empresa_anos  float64   \n",
       "id                                                                id   object   \n",
       "fl_st_especial                                        fl_st_especial     bool   \n",
       "fl_spa                                                        fl_spa     bool   \n",
       "fl_simples_irregular                            fl_simples_irregular     bool   \n",
       "fl_sa                                                          fl_sa     bool   \n",
       "fl_rm                                                          fl_rm     bool   \n",
       "fl_passivel_iss                                      fl_passivel_iss     bool   \n",
       "fl_optante_simples                                fl_optante_simples     bool   \n",
       "fl_optante_simei                                    fl_optante_simei     bool   \n",
       "fl_mei                                                        fl_mei     bool   \n",
       "fl_me                                                          fl_me     bool   \n",
       "fl_matriz                                                  fl_matriz     bool   \n",
       "fl_ltda                                                      fl_ltda     bool   \n",
       "fl_antt                                                      fl_antt     bool   \n",
       "de_saude_tributaria                              de_saude_tributaria   object   \n",
       "vl_total_veiculos_pesados_grupo      vl_total_veiculos_pesados_grupo  float64   \n",
       "\n",
       "                                   qtd_null  percent_null  \n",
       "de_nivel_atividade                        0           0.0  \n",
       "de_ramo                                   0           0.0  \n",
       "vl_total_veiculos_leves_grupo             0           0.0  \n",
       "vl_faturamento_estimado_grupo_aux         0           0.0  \n",
       "vl_faturamento_estimado_aux               0           0.0  \n",
       "sg_uf                                     0           0.0  \n",
       "setor                                     0           0.0  \n",
       "qt_filiais                                0           0.0  \n",
       "nm_segmento                               0           0.0  \n",
       "nm_meso_regiao                            0           0.0  \n",
       "natureza_juridica_macro                   0           0.0  \n",
       "idade_empresa_anos                        0           0.0  \n",
       "id                                        0           0.0  \n",
       "fl_st_especial                            0           0.0  \n",
       "fl_spa                                    0           0.0  \n",
       "fl_simples_irregular                      0           0.0  \n",
       "fl_sa                                     0           0.0  \n",
       "fl_rm                                     0           0.0  \n",
       "fl_passivel_iss                           0           0.0  \n",
       "fl_optante_simples                        0           0.0  \n",
       "fl_optante_simei                          0           0.0  \n",
       "fl_mei                                    0           0.0  \n",
       "fl_me                                     0           0.0  \n",
       "fl_matriz                                 0           0.0  \n",
       "fl_ltda                                   0           0.0  \n",
       "fl_antt                                   0           0.0  \n",
       "de_saude_tributaria                       0           0.0  \n",
       "vl_total_veiculos_pesados_grupo           0           0.0  "
      ]
     },
     "execution_count": 24,
     "metadata": {},
     "output_type": "execute_result"
    }
   ],
   "source": [
    "exploracao(market)"
   ]
  },
  {
   "cell_type": "markdown",
   "metadata": {},
   "source": [
    "### Realizar encoding das features categóricas"
   ]
  },
  {
   "cell_type": "code",
   "execution_count": 25,
   "metadata": {},
   "outputs": [
    {
     "data": {
      "text/html": [
       "<div>\n",
       "<style scoped>\n",
       "    .dataframe tbody tr th:only-of-type {\n",
       "        vertical-align: middle;\n",
       "    }\n",
       "\n",
       "    .dataframe tbody tr th {\n",
       "        vertical-align: top;\n",
       "    }\n",
       "\n",
       "    .dataframe thead th {\n",
       "        text-align: right;\n",
       "    }\n",
       "</style>\n",
       "<table border=\"1\" class=\"dataframe\">\n",
       "  <thead>\n",
       "    <tr style=\"text-align: right;\">\n",
       "      <th></th>\n",
       "      <th>de_nivel_atividade</th>\n",
       "      <th>de_ramo</th>\n",
       "      <th>de_saude_tributaria</th>\n",
       "      <th>fl_antt</th>\n",
       "      <th>fl_ltda</th>\n",
       "      <th>fl_matriz</th>\n",
       "      <th>fl_me</th>\n",
       "      <th>fl_mei</th>\n",
       "      <th>fl_optante_simei</th>\n",
       "      <th>fl_optante_simples</th>\n",
       "      <th>...</th>\n",
       "      <th>natureza_juridica_macro</th>\n",
       "      <th>nm_meso_regiao</th>\n",
       "      <th>nm_segmento</th>\n",
       "      <th>qt_filiais</th>\n",
       "      <th>setor</th>\n",
       "      <th>sg_uf</th>\n",
       "      <th>vl_faturamento_estimado_aux</th>\n",
       "      <th>vl_faturamento_estimado_grupo_aux</th>\n",
       "      <th>vl_total_veiculos_leves_grupo</th>\n",
       "      <th>vl_total_veiculos_pesados_grupo</th>\n",
       "    </tr>\n",
       "  </thead>\n",
       "  <tbody>\n",
       "    <tr>\n",
       "      <th>0</th>\n",
       "      <td>0</td>\n",
       "      <td>11</td>\n",
       "      <td>5</td>\n",
       "      <td>0</td>\n",
       "      <td>0</td>\n",
       "      <td>1</td>\n",
       "      <td>0</td>\n",
       "      <td>0</td>\n",
       "      <td>0</td>\n",
       "      <td>1</td>\n",
       "      <td>...</td>\n",
       "      <td>2</td>\n",
       "      <td>6</td>\n",
       "      <td>10</td>\n",
       "      <td>0</td>\n",
       "      <td>2</td>\n",
       "      <td>4</td>\n",
       "      <td>3132172.8</td>\n",
       "      <td>3132172.8</td>\n",
       "      <td>0.0</td>\n",
       "      <td>0.0</td>\n",
       "    </tr>\n",
       "    <tr>\n",
       "      <th>1</th>\n",
       "      <td>1</td>\n",
       "      <td>21</td>\n",
       "      <td>2</td>\n",
       "      <td>0</td>\n",
       "      <td>0</td>\n",
       "      <td>1</td>\n",
       "      <td>0</td>\n",
       "      <td>1</td>\n",
       "      <td>0</td>\n",
       "      <td>0</td>\n",
       "      <td>...</td>\n",
       "      <td>5</td>\n",
       "      <td>4</td>\n",
       "      <td>3</td>\n",
       "      <td>0</td>\n",
       "      <td>5</td>\n",
       "      <td>3</td>\n",
       "      <td>210000.0</td>\n",
       "      <td>210000.0</td>\n",
       "      <td>0.0</td>\n",
       "      <td>0.0</td>\n",
       "    </tr>\n",
       "    <tr>\n",
       "      <th>2</th>\n",
       "      <td>2</td>\n",
       "      <td>32</td>\n",
       "      <td>0</td>\n",
       "      <td>0</td>\n",
       "      <td>0</td>\n",
       "      <td>1</td>\n",
       "      <td>0</td>\n",
       "      <td>1</td>\n",
       "      <td>1</td>\n",
       "      <td>1</td>\n",
       "      <td>...</td>\n",
       "      <td>5</td>\n",
       "      <td>2</td>\n",
       "      <td>21</td>\n",
       "      <td>0</td>\n",
       "      <td>5</td>\n",
       "      <td>1</td>\n",
       "      <td>50000.0</td>\n",
       "      <td>50000.0</td>\n",
       "      <td>0.0</td>\n",
       "      <td>0.0</td>\n",
       "    </tr>\n",
       "    <tr>\n",
       "      <th>3</th>\n",
       "      <td>2</td>\n",
       "      <td>25</td>\n",
       "      <td>0</td>\n",
       "      <td>0</td>\n",
       "      <td>0</td>\n",
       "      <td>1</td>\n",
       "      <td>0</td>\n",
       "      <td>0</td>\n",
       "      <td>0</td>\n",
       "      <td>1</td>\n",
       "      <td>...</td>\n",
       "      <td>5</td>\n",
       "      <td>2</td>\n",
       "      <td>18</td>\n",
       "      <td>0</td>\n",
       "      <td>5</td>\n",
       "      <td>1</td>\n",
       "      <td>210000.0</td>\n",
       "      <td>210000.0</td>\n",
       "      <td>0.0</td>\n",
       "      <td>0.0</td>\n",
       "    </tr>\n",
       "    <tr>\n",
       "      <th>4</th>\n",
       "      <td>0</td>\n",
       "      <td>27</td>\n",
       "      <td>5</td>\n",
       "      <td>0</td>\n",
       "      <td>0</td>\n",
       "      <td>1</td>\n",
       "      <td>0</td>\n",
       "      <td>0</td>\n",
       "      <td>0</td>\n",
       "      <td>1</td>\n",
       "      <td>...</td>\n",
       "      <td>5</td>\n",
       "      <td>6</td>\n",
       "      <td>8</td>\n",
       "      <td>0</td>\n",
       "      <td>5</td>\n",
       "      <td>4</td>\n",
       "      <td>210000.0</td>\n",
       "      <td>210000.0</td>\n",
       "      <td>0.0</td>\n",
       "      <td>0.0</td>\n",
       "    </tr>\n",
       "  </tbody>\n",
       "</table>\n",
       "<p>5 rows × 28 columns</p>\n",
       "</div>"
      ],
      "text/plain": [
       "   de_nivel_atividade  de_ramo  de_saude_tributaria  fl_antt  fl_ltda  \\\n",
       "0                   0       11                    5        0        0   \n",
       "1                   1       21                    2        0        0   \n",
       "2                   2       32                    0        0        0   \n",
       "3                   2       25                    0        0        0   \n",
       "4                   0       27                    5        0        0   \n",
       "\n",
       "   fl_matriz  fl_me  fl_mei  fl_optante_simei  fl_optante_simples  ...  \\\n",
       "0          1      0       0                 0                   1  ...   \n",
       "1          1      0       1                 0                   0  ...   \n",
       "2          1      0       1                 1                   1  ...   \n",
       "3          1      0       0                 0                   1  ...   \n",
       "4          1      0       0                 0                   1  ...   \n",
       "\n",
       "   natureza_juridica_macro  nm_meso_regiao  nm_segmento  qt_filiais  setor  \\\n",
       "0                        2               6           10           0      2   \n",
       "1                        5               4            3           0      5   \n",
       "2                        5               2           21           0      5   \n",
       "3                        5               2           18           0      5   \n",
       "4                        5               6            8           0      5   \n",
       "\n",
       "   sg_uf vl_faturamento_estimado_aux  vl_faturamento_estimado_grupo_aux  \\\n",
       "0      4                   3132172.8                          3132172.8   \n",
       "1      3                    210000.0                           210000.0   \n",
       "2      1                     50000.0                            50000.0   \n",
       "3      1                    210000.0                           210000.0   \n",
       "4      4                    210000.0                           210000.0   \n",
       "\n",
       "   vl_total_veiculos_leves_grupo  vl_total_veiculos_pesados_grupo  \n",
       "0                            0.0                              0.0  \n",
       "1                            0.0                              0.0  \n",
       "2                            0.0                              0.0  \n",
       "3                            0.0                              0.0  \n",
       "4                            0.0                              0.0  \n",
       "\n",
       "[5 rows x 28 columns]"
      ]
     },
     "execution_count": 25,
     "metadata": {},
     "output_type": "execute_result"
    }
   ],
   "source": [
    "le = LabelEncoder()\n",
    "market = encoding_obj(market, le)\n",
    "market.head()"
   ]
  },
  {
   "cell_type": "markdown",
   "metadata": {},
   "source": [
    "## Criando relatório de EDA com a lib Sweet Viz"
   ]
  },
  {
   "cell_type": "code",
   "execution_count": 26,
   "metadata": {},
   "outputs": [
    {
     "name": "stderr",
     "output_type": "stream",
     "text": [
      ":FEATURES DONE:                    |                     | [  0%]   00:10  -> (00:00 left)\n",
      ":PAIRWISE DONE:                    |█████████████████████| [100%]   01:38  -> (00:00 left)\n"
     ]
    },
    {
     "name": "stdout",
     "output_type": "stream",
     "text": [
      "Creating Associations graph... DONE!\n"
     ]
    }
   ],
   "source": [
    "my_report = sv.analyze(market)\n",
    "my_report.show_html(filepath='eda-enconding.html')"
   ]
  },
  {
   "cell_type": "markdown",
   "metadata": {},
   "source": [
    "### Criando instância do NearestNeighbors"
   ]
  },
  {
   "cell_type": "code",
   "execution_count": 29,
   "metadata": {},
   "outputs": [],
   "source": [
    "modelo = NearestNeighbors(n_neighbors=5, algorithm='ball_tree', metric='minkowski', n_jobs=-1)"
   ]
  },
  {
   "cell_type": "markdown",
   "metadata": {},
   "source": [
    "### Treinando modelo"
   ]
  },
  {
   "cell_type": "code",
   "execution_count": 30,
   "metadata": {},
   "outputs": [
    {
     "name": "stdout",
     "output_type": "stream",
     "text": [
      "CPU times: user 5min 35s, sys: 789 ms, total: 5min 36s\n",
      "Wall time: 5min 34s\n"
     ]
    },
    {
     "data": {
      "text/plain": [
       "NearestNeighbors(algorithm='ball_tree', n_jobs=-1)"
      ]
     },
     "execution_count": 30,
     "metadata": {},
     "output_type": "execute_result"
    }
   ],
   "source": [
    "%%time\n",
    "modelo.fit(market.set_index('id'))"
   ]
  },
  {
   "cell_type": "markdown",
   "metadata": {},
   "source": [
    "### Resultados para o portfólio 1"
   ]
  },
  {
   "cell_type": "code",
   "execution_count": 53,
   "metadata": {},
   "outputs": [],
   "source": [
    "pf1 = pd.merge(port_1[['id']], market, on='id', how='inner')"
   ]
  },
  {
   "cell_type": "markdown",
   "metadata": {},
   "source": [
    "### Dividindo o portfólio em treino e teste"
   ]
  },
  {
   "cell_type": "code",
   "execution_count": 54,
   "metadata": {},
   "outputs": [
    {
     "name": "stdout",
     "output_type": "stream",
     "text": [
      "Treino tem o shape (388, 27)\n",
      "Teste tem o shape (167, 27)\n"
     ]
    }
   ],
   "source": [
    "X_train, X_test = treino_teste_port(pf1.set_index('id'))\n",
    "\n",
    "print(f\"Treino tem o shape {X_train.shape}\")\n",
    "print(f\"Teste tem o shape {X_test.shape}\")"
   ]
  },
  {
   "cell_type": "code",
   "execution_count": 55,
   "metadata": {},
   "outputs": [
    {
     "name": "stdout",
     "output_type": "stream",
     "text": [
      "CPU times: user 5.72 s, sys: 1.01 s, total: 6.74 s\n",
      "Wall time: 41.6 s\n"
     ]
    }
   ],
   "source": [
    "%%time\n",
    "indices_knn, distancias_knn = knn(X_train, modelo)"
   ]
  },
  {
   "cell_type": "code",
   "execution_count": 56,
   "metadata": {},
   "outputs": [],
   "source": [
    "lista_indices_knn = lista_simples(indices_knn)\n",
    "lista_distancias_knn = lista_simples(distancias_knn)"
   ]
  },
  {
   "cell_type": "code",
   "execution_count": 57,
   "metadata": {},
   "outputs": [
    {
     "data": {
      "text/plain": [
       "(1545, 27)"
      ]
     },
     "execution_count": 57,
     "metadata": {},
     "output_type": "execute_result"
    }
   ],
   "source": [
    "df_recsys = criar_df_recomendacao(lista_indices_knn, lista_distancias_knn, market)\n",
    "df_recsys.shape"
   ]
  },
  {
   "cell_type": "code",
   "execution_count": 58,
   "metadata": {},
   "outputs": [
    {
     "data": {
      "text/plain": [
       "1"
      ]
     },
     "execution_count": 58,
     "metadata": {},
     "output_type": "execute_result"
    }
   ],
   "source": [
    "acertou = X_test.index.isin(df_recsys.index).sum()\n",
    "acertou"
   ]
  },
  {
   "cell_type": "code",
   "execution_count": 59,
   "metadata": {},
   "outputs": [
    {
     "name": "stdout",
     "output_type": "stream",
     "text": [
      "A probabilidade de acerto foi de: 0.6%\n"
     ]
    }
   ],
   "source": [
    "probabilidade(acertou, X_test.shape[0])"
   ]
  },
  {
   "cell_type": "markdown",
   "metadata": {},
   "source": [
    "# Para o porfólio 1\n",
    "- a probabilidade de acerto foi de 0.6%\n",
    "- foram recomendadas 1.545 empresas\n",
    "- 167 empresas dos dados de teste, o modelo acertou 1"
   ]
  },
  {
   "cell_type": "markdown",
   "metadata": {},
   "source": [
    "# Resultados para o portfólio 2"
   ]
  },
  {
   "cell_type": "code",
   "execution_count": 60,
   "metadata": {},
   "outputs": [],
   "source": [
    "pf2 = pd.merge(port_2[['id']], market, on='id', how='inner')"
   ]
  },
  {
   "cell_type": "markdown",
   "metadata": {},
   "source": [
    "### Dividindo o portfólio em treino e teste"
   ]
  },
  {
   "cell_type": "code",
   "execution_count": 61,
   "metadata": {},
   "outputs": [
    {
     "name": "stdout",
     "output_type": "stream",
     "text": [
      "Treino tem o shape (396, 27)\n",
      "Teste tem o shape (170, 27)\n"
     ]
    }
   ],
   "source": [
    "X_train, X_test = treino_teste_port(pf2.set_index('id'))\n",
    "\n",
    "print(f\"Treino tem o shape {X_train.shape}\")\n",
    "print(f\"Teste tem o shape {X_test.shape}\")"
   ]
  },
  {
   "cell_type": "code",
   "execution_count": 62,
   "metadata": {},
   "outputs": [
    {
     "name": "stdout",
     "output_type": "stream",
     "text": [
      "CPU times: user 3.79 s, sys: 1.09 s, total: 4.87 s\n",
      "Wall time: 42.5 s\n"
     ]
    }
   ],
   "source": [
    "%%time\n",
    "indices_knn, distancias_knn = knn(X_train, modelo)"
   ]
  },
  {
   "cell_type": "code",
   "execution_count": 63,
   "metadata": {},
   "outputs": [],
   "source": [
    "lista_indices_knn = lista_simples(indices_knn)\n",
    "lista_distancias_knn = lista_simples(distancias_knn)"
   ]
  },
  {
   "cell_type": "code",
   "execution_count": 64,
   "metadata": {},
   "outputs": [
    {
     "data": {
      "text/plain": [
       "(911, 27)"
      ]
     },
     "execution_count": 64,
     "metadata": {},
     "output_type": "execute_result"
    }
   ],
   "source": [
    "df_recsys = criar_df_recomendacao(lista_indices_knn, lista_distancias_knn, market)\n",
    "df_recsys.shape"
   ]
  },
  {
   "cell_type": "code",
   "execution_count": 65,
   "metadata": {},
   "outputs": [
    {
     "data": {
      "text/plain": [
       "102"
      ]
     },
     "execution_count": 65,
     "metadata": {},
     "output_type": "execute_result"
    }
   ],
   "source": [
    "acertou = X_test.index.isin(df_recsys.index).sum()\n",
    "acertou"
   ]
  },
  {
   "cell_type": "code",
   "execution_count": 66,
   "metadata": {},
   "outputs": [
    {
     "name": "stdout",
     "output_type": "stream",
     "text": [
      "A probabilidade de acerto foi de: 60.0%\n"
     ]
    }
   ],
   "source": [
    "probabilidade(acertou, X_test.shape[0])"
   ]
  },
  {
   "cell_type": "markdown",
   "metadata": {},
   "source": [
    "# Para o porfólio 2\n",
    "- a probabilidade de acerto foi de 60%\n",
    "- foram recomendadas 911 empresas\n",
    "- 170 empresas dos dados de teste, o modelo acertou 102"
   ]
  },
  {
   "cell_type": "markdown",
   "metadata": {},
   "source": [
    "# Resultados para o portfólio 3"
   ]
  },
  {
   "cell_type": "code",
   "execution_count": 67,
   "metadata": {},
   "outputs": [],
   "source": [
    "pf3 = pd.merge(port_3[['id']], market, on='id', how='inner')"
   ]
  },
  {
   "cell_type": "markdown",
   "metadata": {},
   "source": [
    "### Dividindo o portfólio em treino e teste"
   ]
  },
  {
   "cell_type": "code",
   "execution_count": 68,
   "metadata": {},
   "outputs": [
    {
     "name": "stdout",
     "output_type": "stream",
     "text": [
      "Treino tem o shape (185, 27)\n",
      "Teste tem o shape (80, 27)\n"
     ]
    }
   ],
   "source": [
    "X_train, X_test = treino_teste_port(pf3.set_index('id'))\n",
    "\n",
    "print(f\"Treino tem o shape {X_train.shape}\")\n",
    "print(f\"Teste tem o shape {X_test.shape}\")"
   ]
  },
  {
   "cell_type": "code",
   "execution_count": 69,
   "metadata": {},
   "outputs": [
    {
     "name": "stdout",
     "output_type": "stream",
     "text": [
      "CPU times: user 1.67 s, sys: 500 ms, total: 2.17 s\n",
      "Wall time: 19.8 s\n"
     ]
    }
   ],
   "source": [
    "%%time\n",
    "indices_knn, distancias_knn = knn(X_train, modelo)"
   ]
  },
  {
   "cell_type": "code",
   "execution_count": 70,
   "metadata": {},
   "outputs": [],
   "source": [
    "lista_indices_knn = lista_simples(indices_knn)\n",
    "lista_distancias_knn = lista_simples(distancias_knn)"
   ]
  },
  {
   "cell_type": "code",
   "execution_count": 71,
   "metadata": {},
   "outputs": [
    {
     "data": {
      "text/plain": [
       "(438, 27)"
      ]
     },
     "execution_count": 71,
     "metadata": {},
     "output_type": "execute_result"
    }
   ],
   "source": [
    "df_recsys = criar_df_recomendacao(lista_indices_knn, lista_distancias_knn, market)\n",
    "df_recsys.shape"
   ]
  },
  {
   "cell_type": "code",
   "execution_count": 72,
   "metadata": {},
   "outputs": [
    {
     "data": {
      "text/plain": [
       "34"
      ]
     },
     "execution_count": 72,
     "metadata": {},
     "output_type": "execute_result"
    }
   ],
   "source": [
    "acertou = X_test.index.isin(df_recsys.index).sum()\n",
    "acertou"
   ]
  },
  {
   "cell_type": "code",
   "execution_count": 73,
   "metadata": {},
   "outputs": [
    {
     "name": "stdout",
     "output_type": "stream",
     "text": [
      "A probabilidade de acerto foi de: 42.5%\n"
     ]
    }
   ],
   "source": [
    "probabilidade(acertou, X_test.shape[0])"
   ]
  },
  {
   "cell_type": "markdown",
   "metadata": {},
   "source": [
    "# Para o porfólio 3\n",
    "- a probabilidade de acerto foi de 42.50%\n",
    "- foram recomendadas 911 empresas\n",
    "- 80 empresas dos dados de teste, o modelo acertou 34"
   ]
  },
  {
   "cell_type": "code",
   "execution_count": null,
   "metadata": {},
   "outputs": [],
   "source": []
  }
 ],
 "metadata": {
  "kernelspec": {
   "display_name": "Python 3",
   "language": "python",
   "name": "python3"
  },
  "language_info": {
   "codemirror_mode": {
    "name": "ipython",
    "version": 3
   },
   "file_extension": ".py",
   "mimetype": "text/x-python",
   "name": "python",
   "nbconvert_exporter": "python",
   "pygments_lexer": "ipython3",
   "version": "3.7.6"
  }
 },
 "nbformat": 4,
 "nbformat_minor": 4
}
