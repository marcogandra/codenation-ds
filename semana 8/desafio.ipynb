{
 "cells": [
  {
   "cell_type": "markdown",
   "metadata": {},
   "source": [
    "## Importando as bibliotecas"
   ]
  },
  {
   "cell_type": "code",
   "execution_count": 1,
   "metadata": {},
   "outputs": [],
   "source": [
    "import pandas as pd\n",
    "from sklearn.ensemble import RandomForestRegressor\n",
    "import numpy as np\n",
    "pd.set_option(\"display.max_rows\", 200)\n",
    "pd.set_option('display.max_columns', 500)"
   ]
  },
  {
   "cell_type": "markdown",
   "metadata": {},
   "source": [
    "### Leitura do arquivo de treino do dataset"
   ]
  },
  {
   "cell_type": "code",
   "execution_count": 2,
   "metadata": {},
   "outputs": [],
   "source": [
    "train = pd.read_csv('train.csv')"
   ]
  },
  {
   "cell_type": "markdown",
   "metadata": {},
   "source": [
    "### Verificando a correlação das variáveis com a target"
   ]
  },
  {
   "cell_type": "code",
   "execution_count": 3,
   "metadata": {},
   "outputs": [
    {
     "data": {
      "text/plain": [
       "Unnamed: 0                     0.0065\n",
       "NU_ANO                            NaN\n",
       "CO_MUNICIPIO_RESIDENCIA        0.1089\n",
       "CO_UF_RESIDENCIA               0.1075\n",
       "NU_IDADE                      -0.0615\n",
       "TP_ESTADO_CIVIL               -0.0354\n",
       "TP_COR_RACA                   -0.1574\n",
       "TP_NACIONALIDADE              -0.0350\n",
       "CO_MUNICIPIO_NASCIMENTO        0.1134\n",
       "CO_UF_NASCIMENTO               0.1122\n",
       "TP_ST_CONCLUSAO               -0.0879\n",
       "TP_ANO_CONCLUIU                0.0290\n",
       "TP_ESCOLA                      0.0693\n",
       "TP_ENSINO                     -0.0864\n",
       "IN_TREINEIRO                  -0.0223\n",
       "CO_ESCOLA                      0.1021\n",
       "CO_MUNICIPIO_ESC               0.1025\n",
       "CO_UF_ESC                      0.1009\n",
       "TP_DEPENDENCIA_ADM_ESC         0.3732\n",
       "TP_LOCALIZACAO_ESC            -0.0530\n",
       "TP_SIT_FUNC_ESC                0.0263\n",
       "IN_BAIXA_VISAO                 0.0007\n",
       "IN_CEGUEIRA                       NaN\n",
       "IN_SURDEZ                     -0.0152\n",
       "IN_DEFICIENCIA_AUDITIVA       -0.0148\n",
       "IN_SURDO_CEGUEIRA                 NaN\n",
       "IN_DEFICIENCIA_FISICA         -0.0204\n",
       "IN_DEFICIENCIA_MENTAL         -0.0104\n",
       "IN_DEFICIT_ATENCAO             0.0606\n",
       "IN_DISLEXIA                    0.0015\n",
       "IN_DISCALCULIA                 0.0098\n",
       "IN_AUTISMO                        NaN\n",
       "IN_VISAO_MONOCULAR             0.0081\n",
       "IN_OUTRA_DEF                   0.0167\n",
       "IN_SABATISTA                  -0.0165\n",
       "IN_GESTANTE                   -0.0009\n",
       "IN_LACTANTE                   -0.0208\n",
       "IN_IDOSO                      -0.0113\n",
       "IN_ESTUDA_CLASSE_HOSPITALAR       NaN\n",
       "IN_SEM_RECURSO                 0.0344\n",
       "IN_BRAILLE                        NaN\n",
       "IN_AMPLIADA_24                -0.0165\n",
       "IN_AMPLIADA_18                 0.0163\n",
       "IN_LEDOR                      -0.0221\n",
       "IN_ACESSO                     -0.0357\n",
       "IN_TRANSCRICAO                -0.0219\n",
       "IN_LIBRAS                     -0.0178\n",
       "IN_LEITURA_LABIAL             -0.0122\n",
       "IN_MESA_CADEIRA_RODAS         -0.0160\n",
       "IN_MESA_CADEIRA_SEPARADA      -0.0075\n",
       "IN_APOIO_PERNA                 0.0062\n",
       "IN_GUIA_INTERPRETE                NaN\n",
       "IN_MACA                           NaN\n",
       "IN_COMPUTADOR                     NaN\n",
       "IN_CADEIRA_ESPECIAL               NaN\n",
       "IN_CADEIRA_CANHOTO                NaN\n",
       "IN_CADEIRA_ACOLCHOADA             NaN\n",
       "IN_PROVA_DEITADO                  NaN\n",
       "IN_MOBILIARIO_OBESO               NaN\n",
       "IN_LAMINA_OVERLAY                 NaN\n",
       "IN_PROTETOR_AURICULAR             NaN\n",
       "IN_MEDIDOR_GLICOSE                NaN\n",
       "IN_MAQUINA_BRAILE                 NaN\n",
       "IN_SOROBAN                        NaN\n",
       "IN_MARCA_PASSO                    NaN\n",
       "IN_SONDA                          NaN\n",
       "IN_MEDICAMENTOS                   NaN\n",
       "IN_SALA_INDIVIDUAL                NaN\n",
       "IN_SALA_ESPECIAL                  NaN\n",
       "IN_SALA_ACOMPANHANTE              NaN\n",
       "IN_MOBILIARIO_ESPECIFICO          NaN\n",
       "IN_MATERIAL_ESPECIFICO            NaN\n",
       "IN_NOME_SOCIAL                -0.0041\n",
       "IN_CERTIFICADO                -0.1037\n",
       "CO_UF_ENTIDADE_CERTIFICACAO    0.0868\n",
       "CO_MUNICIPIO_PROVA             0.1094\n",
       "CO_UF_PROVA                    0.1083\n",
       "TP_PRESENCA_CN                 0.0036\n",
       "TP_PRESENCA_CH                 0.0036\n",
       "TP_PRESENCA_LC                    NaN\n",
       "TP_PRESENCA_MT                    NaN\n",
       "NU_NOTA_CN                     0.5849\n",
       "NU_NOTA_CH                     0.5296\n",
       "NU_NOTA_LC                     0.4947\n",
       "NU_NOTA_MT                     1.0000\n",
       "TP_LINGUA                     -0.2017\n",
       "TP_STATUS_REDACAO             -0.0594\n",
       "NU_NOTA_COMP1                  0.2994\n",
       "NU_NOTA_COMP2                  0.3356\n",
       "NU_NOTA_COMP3                  0.3503\n",
       "NU_NOTA_COMP4                  0.3423\n",
       "NU_NOTA_COMP5                  0.3433\n",
       "NU_NOTA_REDACAO                0.3794\n",
       "Q005                          -0.0708\n",
       "Q029                          -0.1241\n",
       "Q030                          -0.1280\n",
       "Q031                          -0.0518\n",
       "Q032                          -0.0903\n",
       "Q033                          -0.1141\n",
       "Q034                          -0.1048\n",
       "Q035                           0.0317\n",
       "Q036                          -0.1455\n",
       "Q037                          -0.2652\n",
       "Q038                          -0.2023\n",
       "Q039                          -0.0194\n",
       "Q040                          -0.1200\n",
       "Q041                          -0.1318\n",
       "Name: NU_NOTA_MT, dtype: float64"
      ]
     },
     "execution_count": 3,
     "metadata": {},
     "output_type": "execute_result"
    }
   ],
   "source": [
    "train.corr().round(4)['NU_NOTA_MT']"
   ]
  },
  {
   "cell_type": "markdown",
   "metadata": {},
   "source": [
    "### Selecionando as variáveis para o modelo. A de menor correlação foi  NU_NOTA_COMP1 = 0.299"
   ]
  },
  {
   "cell_type": "code",
   "execution_count": 4,
   "metadata": {},
   "outputs": [],
   "source": [
    "colunas = ['NU_NOTA_CN', 'NU_NOTA_CH', 'NU_NOTA_LC', 'NU_NOTA_COMP2', 'NU_NOTA_COMP3',\n",
    "           'NU_NOTA_COMP4', 'NU_NOTA_COMP5', 'NU_NOTA_REDACAO', 'NU_NOTA_COMP1',\n",
    "           'NU_NOTA_MT']"
   ]
  },
  {
   "cell_type": "code",
   "execution_count": 5,
   "metadata": {},
   "outputs": [],
   "source": [
    "# dataframe somente com as variáveis escolhidas\n",
    "train = train[colunas]"
   ]
  },
  {
   "cell_type": "code",
   "execution_count": 6,
   "metadata": {},
   "outputs": [
    {
     "data": {
      "text/html": [
       "<div>\n",
       "<style scoped>\n",
       "    .dataframe tbody tr th:only-of-type {\n",
       "        vertical-align: middle;\n",
       "    }\n",
       "\n",
       "    .dataframe tbody tr th {\n",
       "        vertical-align: top;\n",
       "    }\n",
       "\n",
       "    .dataframe thead th {\n",
       "        text-align: right;\n",
       "    }\n",
       "</style>\n",
       "<table border=\"1\" class=\"dataframe\">\n",
       "  <thead>\n",
       "    <tr style=\"text-align: right;\">\n",
       "      <th></th>\n",
       "      <th>NU_NOTA_CN</th>\n",
       "      <th>NU_NOTA_CH</th>\n",
       "      <th>NU_NOTA_LC</th>\n",
       "      <th>NU_NOTA_COMP2</th>\n",
       "      <th>NU_NOTA_COMP3</th>\n",
       "      <th>NU_NOTA_COMP4</th>\n",
       "      <th>NU_NOTA_COMP5</th>\n",
       "      <th>NU_NOTA_REDACAO</th>\n",
       "      <th>NU_NOTA_COMP1</th>\n",
       "      <th>NU_NOTA_MT</th>\n",
       "    </tr>\n",
       "  </thead>\n",
       "  <tbody>\n",
       "    <tr>\n",
       "      <th>NU_NOTA_CN</th>\n",
       "      <td>1.0000</td>\n",
       "      <td>0.6095</td>\n",
       "      <td>0.5457</td>\n",
       "      <td>0.4129</td>\n",
       "      <td>0.4294</td>\n",
       "      <td>0.4077</td>\n",
       "      <td>0.4163</td>\n",
       "      <td>0.4599</td>\n",
       "      <td>0.3577</td>\n",
       "      <td>0.5849</td>\n",
       "    </tr>\n",
       "    <tr>\n",
       "      <th>NU_NOTA_CH</th>\n",
       "      <td>0.6095</td>\n",
       "      <td>1.0000</td>\n",
       "      <td>0.6930</td>\n",
       "      <td>0.4881</td>\n",
       "      <td>0.5105</td>\n",
       "      <td>0.4888</td>\n",
       "      <td>0.4948</td>\n",
       "      <td>0.5506</td>\n",
       "      <td>0.4438</td>\n",
       "      <td>0.5296</td>\n",
       "    </tr>\n",
       "    <tr>\n",
       "      <th>NU_NOTA_LC</th>\n",
       "      <td>0.5457</td>\n",
       "      <td>0.6930</td>\n",
       "      <td>1.0000</td>\n",
       "      <td>0.4533</td>\n",
       "      <td>0.4754</td>\n",
       "      <td>0.4674</td>\n",
       "      <td>0.4417</td>\n",
       "      <td>0.5129</td>\n",
       "      <td>0.4306</td>\n",
       "      <td>0.4947</td>\n",
       "    </tr>\n",
       "    <tr>\n",
       "      <th>NU_NOTA_COMP2</th>\n",
       "      <td>0.4129</td>\n",
       "      <td>0.4881</td>\n",
       "      <td>0.4533</td>\n",
       "      <td>1.0000</td>\n",
       "      <td>0.8754</td>\n",
       "      <td>0.8080</td>\n",
       "      <td>0.6559</td>\n",
       "      <td>0.9183</td>\n",
       "      <td>0.7567</td>\n",
       "      <td>0.3356</td>\n",
       "    </tr>\n",
       "    <tr>\n",
       "      <th>NU_NOTA_COMP3</th>\n",
       "      <td>0.4294</td>\n",
       "      <td>0.5105</td>\n",
       "      <td>0.4754</td>\n",
       "      <td>0.8754</td>\n",
       "      <td>1.0000</td>\n",
       "      <td>0.8272</td>\n",
       "      <td>0.6643</td>\n",
       "      <td>0.9258</td>\n",
       "      <td>0.7595</td>\n",
       "      <td>0.3503</td>\n",
       "    </tr>\n",
       "    <tr>\n",
       "      <th>NU_NOTA_COMP4</th>\n",
       "      <td>0.4077</td>\n",
       "      <td>0.4888</td>\n",
       "      <td>0.4674</td>\n",
       "      <td>0.8080</td>\n",
       "      <td>0.8272</td>\n",
       "      <td>1.0000</td>\n",
       "      <td>0.6350</td>\n",
       "      <td>0.9145</td>\n",
       "      <td>0.8245</td>\n",
       "      <td>0.3423</td>\n",
       "    </tr>\n",
       "    <tr>\n",
       "      <th>NU_NOTA_COMP5</th>\n",
       "      <td>0.4163</td>\n",
       "      <td>0.4948</td>\n",
       "      <td>0.4417</td>\n",
       "      <td>0.6559</td>\n",
       "      <td>0.6643</td>\n",
       "      <td>0.6350</td>\n",
       "      <td>1.0000</td>\n",
       "      <td>0.8162</td>\n",
       "      <td>0.5586</td>\n",
       "      <td>0.3433</td>\n",
       "    </tr>\n",
       "    <tr>\n",
       "      <th>NU_NOTA_REDACAO</th>\n",
       "      <td>0.4599</td>\n",
       "      <td>0.5506</td>\n",
       "      <td>0.5129</td>\n",
       "      <td>0.9183</td>\n",
       "      <td>0.9258</td>\n",
       "      <td>0.9145</td>\n",
       "      <td>0.8162</td>\n",
       "      <td>1.0000</td>\n",
       "      <td>0.8627</td>\n",
       "      <td>0.3794</td>\n",
       "    </tr>\n",
       "    <tr>\n",
       "      <th>NU_NOTA_COMP1</th>\n",
       "      <td>0.3577</td>\n",
       "      <td>0.4438</td>\n",
       "      <td>0.4306</td>\n",
       "      <td>0.7567</td>\n",
       "      <td>0.7595</td>\n",
       "      <td>0.8245</td>\n",
       "      <td>0.5586</td>\n",
       "      <td>0.8627</td>\n",
       "      <td>1.0000</td>\n",
       "      <td>0.2994</td>\n",
       "    </tr>\n",
       "    <tr>\n",
       "      <th>NU_NOTA_MT</th>\n",
       "      <td>0.5849</td>\n",
       "      <td>0.5296</td>\n",
       "      <td>0.4947</td>\n",
       "      <td>0.3356</td>\n",
       "      <td>0.3503</td>\n",
       "      <td>0.3423</td>\n",
       "      <td>0.3433</td>\n",
       "      <td>0.3794</td>\n",
       "      <td>0.2994</td>\n",
       "      <td>1.0000</td>\n",
       "    </tr>\n",
       "  </tbody>\n",
       "</table>\n",
       "</div>"
      ],
      "text/plain": [
       "                 NU_NOTA_CN  NU_NOTA_CH  NU_NOTA_LC  NU_NOTA_COMP2  \\\n",
       "NU_NOTA_CN           1.0000      0.6095      0.5457         0.4129   \n",
       "NU_NOTA_CH           0.6095      1.0000      0.6930         0.4881   \n",
       "NU_NOTA_LC           0.5457      0.6930      1.0000         0.4533   \n",
       "NU_NOTA_COMP2        0.4129      0.4881      0.4533         1.0000   \n",
       "NU_NOTA_COMP3        0.4294      0.5105      0.4754         0.8754   \n",
       "NU_NOTA_COMP4        0.4077      0.4888      0.4674         0.8080   \n",
       "NU_NOTA_COMP5        0.4163      0.4948      0.4417         0.6559   \n",
       "NU_NOTA_REDACAO      0.4599      0.5506      0.5129         0.9183   \n",
       "NU_NOTA_COMP1        0.3577      0.4438      0.4306         0.7567   \n",
       "NU_NOTA_MT           0.5849      0.5296      0.4947         0.3356   \n",
       "\n",
       "                 NU_NOTA_COMP3  NU_NOTA_COMP4  NU_NOTA_COMP5  NU_NOTA_REDACAO  \\\n",
       "NU_NOTA_CN              0.4294         0.4077         0.4163           0.4599   \n",
       "NU_NOTA_CH              0.5105         0.4888         0.4948           0.5506   \n",
       "NU_NOTA_LC              0.4754         0.4674         0.4417           0.5129   \n",
       "NU_NOTA_COMP2           0.8754         0.8080         0.6559           0.9183   \n",
       "NU_NOTA_COMP3           1.0000         0.8272         0.6643           0.9258   \n",
       "NU_NOTA_COMP4           0.8272         1.0000         0.6350           0.9145   \n",
       "NU_NOTA_COMP5           0.6643         0.6350         1.0000           0.8162   \n",
       "NU_NOTA_REDACAO         0.9258         0.9145         0.8162           1.0000   \n",
       "NU_NOTA_COMP1           0.7595         0.8245         0.5586           0.8627   \n",
       "NU_NOTA_MT              0.3503         0.3423         0.3433           0.3794   \n",
       "\n",
       "                 NU_NOTA_COMP1  NU_NOTA_MT  \n",
       "NU_NOTA_CN              0.3577      0.5849  \n",
       "NU_NOTA_CH              0.4438      0.5296  \n",
       "NU_NOTA_LC              0.4306      0.4947  \n",
       "NU_NOTA_COMP2           0.7567      0.3356  \n",
       "NU_NOTA_COMP3           0.7595      0.3503  \n",
       "NU_NOTA_COMP4           0.8245      0.3423  \n",
       "NU_NOTA_COMP5           0.5586      0.3433  \n",
       "NU_NOTA_REDACAO         0.8627      0.3794  \n",
       "NU_NOTA_COMP1           1.0000      0.2994  \n",
       "NU_NOTA_MT              0.2994      1.0000  "
      ]
     },
     "execution_count": 6,
     "metadata": {},
     "output_type": "execute_result"
    }
   ],
   "source": [
    "# verificando a correlação no novo dataframe\n",
    "train.corr().round(4)"
   ]
  },
  {
   "cell_type": "markdown",
   "metadata": {},
   "source": [
    "#### Verificando mais informações do dataframe"
   ]
  },
  {
   "cell_type": "code",
   "execution_count": 7,
   "metadata": {},
   "outputs": [
    {
     "name": "stdout",
     "output_type": "stream",
     "text": [
      "<class 'pandas.core.frame.DataFrame'>\n",
      "RangeIndex: 13730 entries, 0 to 13729\n",
      "Data columns (total 10 columns):\n",
      " #   Column           Non-Null Count  Dtype  \n",
      "---  ------           --------------  -----  \n",
      " 0   NU_NOTA_CN       10341 non-null  float64\n",
      " 1   NU_NOTA_CH       10341 non-null  float64\n",
      " 2   NU_NOTA_LC       10133 non-null  float64\n",
      " 3   NU_NOTA_COMP2    10133 non-null  float64\n",
      " 4   NU_NOTA_COMP3    10133 non-null  float64\n",
      " 5   NU_NOTA_COMP4    10133 non-null  float64\n",
      " 6   NU_NOTA_COMP5    10133 non-null  float64\n",
      " 7   NU_NOTA_REDACAO  10133 non-null  float64\n",
      " 8   NU_NOTA_COMP1    10133 non-null  float64\n",
      " 9   NU_NOTA_MT       10133 non-null  float64\n",
      "dtypes: float64(10)\n",
      "memory usage: 1.0 MB\n"
     ]
    }
   ],
   "source": [
    "train.info()"
   ]
  },
  {
   "cell_type": "markdown",
   "metadata": {},
   "source": [
    "### Verificando estatísticas descritivas das variáveis"
   ]
  },
  {
   "cell_type": "code",
   "execution_count": 8,
   "metadata": {},
   "outputs": [
    {
     "data": {
      "text/html": [
       "<div>\n",
       "<style scoped>\n",
       "    .dataframe tbody tr th:only-of-type {\n",
       "        vertical-align: middle;\n",
       "    }\n",
       "\n",
       "    .dataframe tbody tr th {\n",
       "        vertical-align: top;\n",
       "    }\n",
       "\n",
       "    .dataframe thead th {\n",
       "        text-align: right;\n",
       "    }\n",
       "</style>\n",
       "<table border=\"1\" class=\"dataframe\">\n",
       "  <thead>\n",
       "    <tr style=\"text-align: right;\">\n",
       "      <th></th>\n",
       "      <th>NU_NOTA_CN</th>\n",
       "      <th>NU_NOTA_CH</th>\n",
       "      <th>NU_NOTA_LC</th>\n",
       "      <th>NU_NOTA_COMP2</th>\n",
       "      <th>NU_NOTA_COMP3</th>\n",
       "      <th>NU_NOTA_COMP4</th>\n",
       "      <th>NU_NOTA_COMP5</th>\n",
       "      <th>NU_NOTA_REDACAO</th>\n",
       "      <th>NU_NOTA_COMP1</th>\n",
       "      <th>NU_NOTA_MT</th>\n",
       "    </tr>\n",
       "  </thead>\n",
       "  <tbody>\n",
       "    <tr>\n",
       "      <th>count</th>\n",
       "      <td>10341.00</td>\n",
       "      <td>10341.00</td>\n",
       "      <td>10133.00</td>\n",
       "      <td>10133.00</td>\n",
       "      <td>10133.00</td>\n",
       "      <td>10133.00</td>\n",
       "      <td>10133.00</td>\n",
       "      <td>10133.00</td>\n",
       "      <td>10133.00</td>\n",
       "      <td>10133.00</td>\n",
       "    </tr>\n",
       "    <tr>\n",
       "      <th>mean</th>\n",
       "      <td>473.50</td>\n",
       "      <td>529.66</td>\n",
       "      <td>516.47</td>\n",
       "      <td>111.92</td>\n",
       "      <td>106.82</td>\n",
       "      <td>113.12</td>\n",
       "      <td>77.37</td>\n",
       "      <td>529.05</td>\n",
       "      <td>119.81</td>\n",
       "      <td>482.50</td>\n",
       "    </tr>\n",
       "    <tr>\n",
       "      <th>std</th>\n",
       "      <td>71.09</td>\n",
       "      <td>73.73</td>\n",
       "      <td>68.69</td>\n",
       "      <td>33.74</td>\n",
       "      <td>34.34</td>\n",
       "      <td>33.48</td>\n",
       "      <td>43.07</td>\n",
       "      <td>154.29</td>\n",
       "      <td>29.85</td>\n",
       "      <td>99.83</td>\n",
       "    </tr>\n",
       "    <tr>\n",
       "      <th>min</th>\n",
       "      <td>0.00</td>\n",
       "      <td>0.00</td>\n",
       "      <td>0.00</td>\n",
       "      <td>0.00</td>\n",
       "      <td>0.00</td>\n",
       "      <td>0.00</td>\n",
       "      <td>0.00</td>\n",
       "      <td>0.00</td>\n",
       "      <td>0.00</td>\n",
       "      <td>0.00</td>\n",
       "    </tr>\n",
       "    <tr>\n",
       "      <th>25%</th>\n",
       "      <td>419.90</td>\n",
       "      <td>480.40</td>\n",
       "      <td>468.10</td>\n",
       "      <td>100.00</td>\n",
       "      <td>80.00</td>\n",
       "      <td>100.00</td>\n",
       "      <td>40.00</td>\n",
       "      <td>440.00</td>\n",
       "      <td>120.00</td>\n",
       "      <td>408.90</td>\n",
       "    </tr>\n",
       "    <tr>\n",
       "      <th>50%</th>\n",
       "      <td>459.80</td>\n",
       "      <td>532.00</td>\n",
       "      <td>520.90</td>\n",
       "      <td>120.00</td>\n",
       "      <td>120.00</td>\n",
       "      <td>120.00</td>\n",
       "      <td>80.00</td>\n",
       "      <td>540.00</td>\n",
       "      <td>120.00</td>\n",
       "      <td>461.20</td>\n",
       "    </tr>\n",
       "    <tr>\n",
       "      <th>75%</th>\n",
       "      <td>514.50</td>\n",
       "      <td>581.20</td>\n",
       "      <td>564.90</td>\n",
       "      <td>120.00</td>\n",
       "      <td>120.00</td>\n",
       "      <td>120.00</td>\n",
       "      <td>100.00</td>\n",
       "      <td>600.00</td>\n",
       "      <td>140.00</td>\n",
       "      <td>537.60</td>\n",
       "    </tr>\n",
       "    <tr>\n",
       "      <th>max</th>\n",
       "      <td>806.40</td>\n",
       "      <td>807.00</td>\n",
       "      <td>763.60</td>\n",
       "      <td>200.00</td>\n",
       "      <td>200.00</td>\n",
       "      <td>200.00</td>\n",
       "      <td>200.00</td>\n",
       "      <td>1000.00</td>\n",
       "      <td>200.00</td>\n",
       "      <td>952.00</td>\n",
       "    </tr>\n",
       "  </tbody>\n",
       "</table>\n",
       "</div>"
      ],
      "text/plain": [
       "       NU_NOTA_CN  NU_NOTA_CH  NU_NOTA_LC  NU_NOTA_COMP2  NU_NOTA_COMP3  \\\n",
       "count    10341.00    10341.00    10133.00       10133.00       10133.00   \n",
       "mean       473.50      529.66      516.47         111.92         106.82   \n",
       "std         71.09       73.73       68.69          33.74          34.34   \n",
       "min          0.00        0.00        0.00           0.00           0.00   \n",
       "25%        419.90      480.40      468.10         100.00          80.00   \n",
       "50%        459.80      532.00      520.90         120.00         120.00   \n",
       "75%        514.50      581.20      564.90         120.00         120.00   \n",
       "max        806.40      807.00      763.60         200.00         200.00   \n",
       "\n",
       "       NU_NOTA_COMP4  NU_NOTA_COMP5  NU_NOTA_REDACAO  NU_NOTA_COMP1  \\\n",
       "count       10133.00       10133.00         10133.00       10133.00   \n",
       "mean          113.12          77.37           529.05         119.81   \n",
       "std            33.48          43.07           154.29          29.85   \n",
       "min             0.00           0.00             0.00           0.00   \n",
       "25%           100.00          40.00           440.00         120.00   \n",
       "50%           120.00          80.00           540.00         120.00   \n",
       "75%           120.00         100.00           600.00         140.00   \n",
       "max           200.00         200.00          1000.00         200.00   \n",
       "\n",
       "       NU_NOTA_MT  \n",
       "count    10133.00  \n",
       "mean       482.50  \n",
       "std         99.83  \n",
       "min          0.00  \n",
       "25%        408.90  \n",
       "50%        461.20  \n",
       "75%        537.60  \n",
       "max        952.00  "
      ]
     },
     "execution_count": 8,
     "metadata": {},
     "output_type": "execute_result"
    }
   ],
   "source": [
    "train.describe().round(2)"
   ]
  },
  {
   "cell_type": "markdown",
   "metadata": {},
   "source": [
    "#### Verificando a quantidade de nulos nas variáveis"
   ]
  },
  {
   "cell_type": "code",
   "execution_count": 9,
   "metadata": {},
   "outputs": [
    {
     "data": {
      "text/plain": [
       "NU_NOTA_CN         3389\n",
       "NU_NOTA_CH         3389\n",
       "NU_NOTA_LC         3597\n",
       "NU_NOTA_COMP2      3597\n",
       "NU_NOTA_COMP3      3597\n",
       "NU_NOTA_COMP4      3597\n",
       "NU_NOTA_COMP5      3597\n",
       "NU_NOTA_REDACAO    3597\n",
       "NU_NOTA_COMP1      3597\n",
       "NU_NOTA_MT         3597\n",
       "dtype: int64"
      ]
     },
     "execution_count": 9,
     "metadata": {},
     "output_type": "execute_result"
    }
   ],
   "source": [
    "train.isnull().sum()"
   ]
  },
  {
   "cell_type": "markdown",
   "metadata": {},
   "source": [
    "### Tratando os valores faltantes preenchendo com -1"
   ]
  },
  {
   "cell_type": "code",
   "execution_count": 10,
   "metadata": {},
   "outputs": [],
   "source": [
    "train.fillna(-1, inplace=True)"
   ]
  },
  {
   "cell_type": "markdown",
   "metadata": {},
   "source": [
    "#### Selecionando a target do modelo"
   ]
  },
  {
   "cell_type": "code",
   "execution_count": 11,
   "metadata": {},
   "outputs": [
    {
     "data": {
      "text/plain": [
       "0        399.4\n",
       "1        459.8\n",
       "2         -1.0\n",
       "3         -1.0\n",
       "4         -1.0\n",
       "         ...  \n",
       "13725    403.2\n",
       "13726    452.4\n",
       "13727    398.0\n",
       "13728    386.6\n",
       "13729    428.9\n",
       "Name: NU_NOTA_MT, Length: 13730, dtype: float64"
      ]
     },
     "execution_count": 11,
     "metadata": {},
     "output_type": "execute_result"
    }
   ],
   "source": [
    "y_train = train.NU_NOTA_MT\n",
    "y_train"
   ]
  },
  {
   "cell_type": "markdown",
   "metadata": {},
   "source": [
    "#### Selecionando as variáveis independente"
   ]
  },
  {
   "cell_type": "code",
   "execution_count": 12,
   "metadata": {},
   "outputs": [],
   "source": [
    "X_train = train\n",
    "X_train.drop(columns=['NU_NOTA_MT'], inplace=True)"
   ]
  },
  {
   "cell_type": "code",
   "execution_count": 13,
   "metadata": {},
   "outputs": [
    {
     "data": {
      "text/plain": [
       "Index(['NU_NOTA_CN', 'NU_NOTA_CH', 'NU_NOTA_LC', 'NU_NOTA_COMP2',\n",
       "       'NU_NOTA_COMP3', 'NU_NOTA_COMP4', 'NU_NOTA_COMP5', 'NU_NOTA_REDACAO',\n",
       "       'NU_NOTA_COMP1'],\n",
       "      dtype='object')"
      ]
     },
     "execution_count": 13,
     "metadata": {},
     "output_type": "execute_result"
    }
   ],
   "source": [
    "# Verificando quais são as variáveis independentes\n",
    "X_train.columns"
   ]
  },
  {
   "cell_type": "code",
   "execution_count": 14,
   "metadata": {},
   "outputs": [
    {
     "data": {
      "text/plain": [
       "['NU_NOTA_CN',\n",
       " 'NU_NOTA_CH',\n",
       " 'NU_NOTA_LC',\n",
       " 'NU_NOTA_COMP2',\n",
       " 'NU_NOTA_COMP3',\n",
       " 'NU_NOTA_COMP4',\n",
       " 'NU_NOTA_COMP5',\n",
       " 'NU_NOTA_REDACAO',\n",
       " 'NU_NOTA_COMP1',\n",
       " 'NU_NOTA_MT']"
      ]
     },
     "execution_count": 14,
     "metadata": {},
     "output_type": "execute_result"
    }
   ],
   "source": [
    "colunas"
   ]
  },
  {
   "cell_type": "markdown",
   "metadata": {},
   "source": [
    "### Criando lista com as colunas que foram usadas para a parte do treino, sabendo que tem que ser igual para o teste"
   ]
  },
  {
   "cell_type": "code",
   "execution_count": 15,
   "metadata": {},
   "outputs": [],
   "source": [
    "# criando uma cópia da lista\n",
    "colunas_test = colunas.copy()\n",
    "\n",
    "# removendo a última variável da lista, neste caso é NU_NOTA_MT, que no caso é a target e não existe no teste\n",
    "colunas_test.pop()\n",
    "\n",
    "# adicionando o NU_INSCRICAO\n",
    "colunas_test.append('NU_INSCRICAO')"
   ]
  },
  {
   "cell_type": "markdown",
   "metadata": {},
   "source": [
    "### Leitura do arquivo de teste do dataset"
   ]
  },
  {
   "cell_type": "code",
   "execution_count": 16,
   "metadata": {},
   "outputs": [],
   "source": [
    "test = pd.read_csv('test.csv', usecols=colunas_test)"
   ]
  },
  {
   "cell_type": "markdown",
   "metadata": {},
   "source": [
    "#### Salvando a lista de identificação dos participantes do enem para montar o arquivo ao final do modelo"
   ]
  },
  {
   "cell_type": "code",
   "execution_count": 17,
   "metadata": {},
   "outputs": [],
   "source": [
    "num_inscricao = test['NU_INSCRICAO']"
   ]
  },
  {
   "cell_type": "markdown",
   "metadata": {},
   "source": [
    "#### Verificando a quantidade de nulos nas variáveis"
   ]
  },
  {
   "cell_type": "code",
   "execution_count": 18,
   "metadata": {},
   "outputs": [
    {
     "data": {
      "text/plain": [
       "NU_INSCRICAO          0\n",
       "NU_NOTA_CN         1134\n",
       "NU_NOTA_CH         1134\n",
       "NU_NOTA_LC         1199\n",
       "NU_NOTA_COMP1      1199\n",
       "NU_NOTA_COMP2      1199\n",
       "NU_NOTA_COMP3      1199\n",
       "NU_NOTA_COMP4      1199\n",
       "NU_NOTA_COMP5      1199\n",
       "NU_NOTA_REDACAO    1199\n",
       "dtype: int64"
      ]
     },
     "execution_count": 18,
     "metadata": {},
     "output_type": "execute_result"
    }
   ],
   "source": [
    "test.isnull().sum()"
   ]
  },
  {
   "cell_type": "markdown",
   "metadata": {},
   "source": [
    "### Tratando os valores faltantes preenchendo com -1, igual ao treino"
   ]
  },
  {
   "cell_type": "code",
   "execution_count": 19,
   "metadata": {},
   "outputs": [
    {
     "data": {
      "text/html": [
       "<div>\n",
       "<style scoped>\n",
       "    .dataframe tbody tr th:only-of-type {\n",
       "        vertical-align: middle;\n",
       "    }\n",
       "\n",
       "    .dataframe tbody tr th {\n",
       "        vertical-align: top;\n",
       "    }\n",
       "\n",
       "    .dataframe thead th {\n",
       "        text-align: right;\n",
       "    }\n",
       "</style>\n",
       "<table border=\"1\" class=\"dataframe\">\n",
       "  <thead>\n",
       "    <tr style=\"text-align: right;\">\n",
       "      <th></th>\n",
       "      <th>NU_INSCRICAO</th>\n",
       "      <th>NU_NOTA_CN</th>\n",
       "      <th>NU_NOTA_CH</th>\n",
       "      <th>NU_NOTA_LC</th>\n",
       "      <th>NU_NOTA_COMP1</th>\n",
       "      <th>NU_NOTA_COMP2</th>\n",
       "      <th>NU_NOTA_COMP3</th>\n",
       "      <th>NU_NOTA_COMP4</th>\n",
       "      <th>NU_NOTA_COMP5</th>\n",
       "      <th>NU_NOTA_REDACAO</th>\n",
       "    </tr>\n",
       "  </thead>\n",
       "  <tbody>\n",
       "    <tr>\n",
       "      <th>0</th>\n",
       "      <td>73ff9fcc02f0a99919906c942c2e1a1042cdcf98</td>\n",
       "      <td>464.8</td>\n",
       "      <td>443.5</td>\n",
       "      <td>431.8</td>\n",
       "      <td>120.0</td>\n",
       "      <td>80.0</td>\n",
       "      <td>80.0</td>\n",
       "      <td>100.0</td>\n",
       "      <td>40.0</td>\n",
       "      <td>420.0</td>\n",
       "    </tr>\n",
       "    <tr>\n",
       "      <th>1</th>\n",
       "      <td>71a95f9f1b91a82c65ad94abbdf9f54e6066f968</td>\n",
       "      <td>391.1</td>\n",
       "      <td>491.1</td>\n",
       "      <td>548.0</td>\n",
       "      <td>120.0</td>\n",
       "      <td>120.0</td>\n",
       "      <td>120.0</td>\n",
       "      <td>120.0</td>\n",
       "      <td>100.0</td>\n",
       "      <td>580.0</td>\n",
       "    </tr>\n",
       "    <tr>\n",
       "      <th>2</th>\n",
       "      <td>b38a03232f43b11c9d0788abaf060f7366053b6d</td>\n",
       "      <td>595.9</td>\n",
       "      <td>622.7</td>\n",
       "      <td>613.6</td>\n",
       "      <td>80.0</td>\n",
       "      <td>40.0</td>\n",
       "      <td>40.0</td>\n",
       "      <td>80.0</td>\n",
       "      <td>80.0</td>\n",
       "      <td>320.0</td>\n",
       "    </tr>\n",
       "    <tr>\n",
       "      <th>3</th>\n",
       "      <td>70b682d9a3636be23f6120fa9d6b164eb3c6002d</td>\n",
       "      <td>-1.0</td>\n",
       "      <td>-1.0</td>\n",
       "      <td>-1.0</td>\n",
       "      <td>-1.0</td>\n",
       "      <td>-1.0</td>\n",
       "      <td>-1.0</td>\n",
       "      <td>-1.0</td>\n",
       "      <td>-1.0</td>\n",
       "      <td>-1.0</td>\n",
       "    </tr>\n",
       "    <tr>\n",
       "      <th>4</th>\n",
       "      <td>715494628a50142ce8cb17191cfe6d0f3cae0934</td>\n",
       "      <td>592.9</td>\n",
       "      <td>492.6</td>\n",
       "      <td>571.4</td>\n",
       "      <td>100.0</td>\n",
       "      <td>80.0</td>\n",
       "      <td>60.0</td>\n",
       "      <td>80.0</td>\n",
       "      <td>0.0</td>\n",
       "      <td>320.0</td>\n",
       "    </tr>\n",
       "    <tr>\n",
       "      <th>...</th>\n",
       "      <td>...</td>\n",
       "      <td>...</td>\n",
       "      <td>...</td>\n",
       "      <td>...</td>\n",
       "      <td>...</td>\n",
       "      <td>...</td>\n",
       "      <td>...</td>\n",
       "      <td>...</td>\n",
       "      <td>...</td>\n",
       "      <td>...</td>\n",
       "    </tr>\n",
       "    <tr>\n",
       "      <th>4571</th>\n",
       "      <td>dac0f22429c7f8e3931d0abaf5dfc8e5c772a48b</td>\n",
       "      <td>398.3</td>\n",
       "      <td>558.2</td>\n",
       "      <td>511.6</td>\n",
       "      <td>120.0</td>\n",
       "      <td>120.0</td>\n",
       "      <td>120.0</td>\n",
       "      <td>100.0</td>\n",
       "      <td>40.0</td>\n",
       "      <td>500.0</td>\n",
       "    </tr>\n",
       "    <tr>\n",
       "      <th>4572</th>\n",
       "      <td>a75fa8770257e7c9368d059fe53d9ef431f4bdef</td>\n",
       "      <td>427.6</td>\n",
       "      <td>579.7</td>\n",
       "      <td>471.1</td>\n",
       "      <td>100.0</td>\n",
       "      <td>100.0</td>\n",
       "      <td>100.0</td>\n",
       "      <td>120.0</td>\n",
       "      <td>100.0</td>\n",
       "      <td>520.0</td>\n",
       "    </tr>\n",
       "    <tr>\n",
       "      <th>4573</th>\n",
       "      <td>655fa6306720ff16e825903b5422a46608a77545</td>\n",
       "      <td>639.2</td>\n",
       "      <td>643.8</td>\n",
       "      <td>604.9</td>\n",
       "      <td>160.0</td>\n",
       "      <td>140.0</td>\n",
       "      <td>120.0</td>\n",
       "      <td>140.0</td>\n",
       "      <td>80.0</td>\n",
       "      <td>640.0</td>\n",
       "    </tr>\n",
       "    <tr>\n",
       "      <th>4574</th>\n",
       "      <td>1f4bc3e3d56212d500625bfe8ac78ccff4362293</td>\n",
       "      <td>427.1</td>\n",
       "      <td>467.9</td>\n",
       "      <td>540.2</td>\n",
       "      <td>140.0</td>\n",
       "      <td>80.0</td>\n",
       "      <td>80.0</td>\n",
       "      <td>140.0</td>\n",
       "      <td>80.0</td>\n",
       "      <td>520.0</td>\n",
       "    </tr>\n",
       "    <tr>\n",
       "      <th>4575</th>\n",
       "      <td>adf0d15b54317b6564ef56dad2b775bbb0ef50cc</td>\n",
       "      <td>-1.0</td>\n",
       "      <td>-1.0</td>\n",
       "      <td>-1.0</td>\n",
       "      <td>-1.0</td>\n",
       "      <td>-1.0</td>\n",
       "      <td>-1.0</td>\n",
       "      <td>-1.0</td>\n",
       "      <td>-1.0</td>\n",
       "      <td>-1.0</td>\n",
       "    </tr>\n",
       "  </tbody>\n",
       "</table>\n",
       "<p>4576 rows × 10 columns</p>\n",
       "</div>"
      ],
      "text/plain": [
       "                                  NU_INSCRICAO  NU_NOTA_CN  NU_NOTA_CH  \\\n",
       "0     73ff9fcc02f0a99919906c942c2e1a1042cdcf98       464.8       443.5   \n",
       "1     71a95f9f1b91a82c65ad94abbdf9f54e6066f968       391.1       491.1   \n",
       "2     b38a03232f43b11c9d0788abaf060f7366053b6d       595.9       622.7   \n",
       "3     70b682d9a3636be23f6120fa9d6b164eb3c6002d        -1.0        -1.0   \n",
       "4     715494628a50142ce8cb17191cfe6d0f3cae0934       592.9       492.6   \n",
       "...                                        ...         ...         ...   \n",
       "4571  dac0f22429c7f8e3931d0abaf5dfc8e5c772a48b       398.3       558.2   \n",
       "4572  a75fa8770257e7c9368d059fe53d9ef431f4bdef       427.6       579.7   \n",
       "4573  655fa6306720ff16e825903b5422a46608a77545       639.2       643.8   \n",
       "4574  1f4bc3e3d56212d500625bfe8ac78ccff4362293       427.1       467.9   \n",
       "4575  adf0d15b54317b6564ef56dad2b775bbb0ef50cc        -1.0        -1.0   \n",
       "\n",
       "      NU_NOTA_LC  NU_NOTA_COMP1  NU_NOTA_COMP2  NU_NOTA_COMP3  NU_NOTA_COMP4  \\\n",
       "0          431.8          120.0           80.0           80.0          100.0   \n",
       "1          548.0          120.0          120.0          120.0          120.0   \n",
       "2          613.6           80.0           40.0           40.0           80.0   \n",
       "3           -1.0           -1.0           -1.0           -1.0           -1.0   \n",
       "4          571.4          100.0           80.0           60.0           80.0   \n",
       "...          ...            ...            ...            ...            ...   \n",
       "4571       511.6          120.0          120.0          120.0          100.0   \n",
       "4572       471.1          100.0          100.0          100.0          120.0   \n",
       "4573       604.9          160.0          140.0          120.0          140.0   \n",
       "4574       540.2          140.0           80.0           80.0          140.0   \n",
       "4575        -1.0           -1.0           -1.0           -1.0           -1.0   \n",
       "\n",
       "      NU_NOTA_COMP5  NU_NOTA_REDACAO  \n",
       "0              40.0            420.0  \n",
       "1             100.0            580.0  \n",
       "2              80.0            320.0  \n",
       "3              -1.0             -1.0  \n",
       "4               0.0            320.0  \n",
       "...             ...              ...  \n",
       "4571           40.0            500.0  \n",
       "4572          100.0            520.0  \n",
       "4573           80.0            640.0  \n",
       "4574           80.0            520.0  \n",
       "4575           -1.0             -1.0  \n",
       "\n",
       "[4576 rows x 10 columns]"
      ]
     },
     "execution_count": 19,
     "metadata": {},
     "output_type": "execute_result"
    }
   ],
   "source": [
    "test.fillna(-1, inplace=True)\n",
    "test"
   ]
  },
  {
   "cell_type": "markdown",
   "metadata": {},
   "source": [
    "#### Criando coluna target no dataframe de teste, valores nulos pois o modelo irá fazer a predição"
   ]
  },
  {
   "cell_type": "code",
   "execution_count": 20,
   "metadata": {},
   "outputs": [],
   "source": [
    "test['NU_NOTA_MT'] = None"
   ]
  },
  {
   "cell_type": "markdown",
   "metadata": {},
   "source": [
    "#### Selecionando a target do modelo"
   ]
  },
  {
   "cell_type": "code",
   "execution_count": 21,
   "metadata": {},
   "outputs": [
    {
     "data": {
      "text/plain": [
       "0       None\n",
       "1       None\n",
       "2       None\n",
       "3       None\n",
       "4       None\n",
       "        ... \n",
       "4571    None\n",
       "4572    None\n",
       "4573    None\n",
       "4574    None\n",
       "4575    None\n",
       "Name: NU_NOTA_MT, Length: 4576, dtype: object"
      ]
     },
     "execution_count": 21,
     "metadata": {},
     "output_type": "execute_result"
    }
   ],
   "source": [
    "y_test = test['NU_NOTA_MT']\n",
    "y_test"
   ]
  },
  {
   "cell_type": "markdown",
   "metadata": {},
   "source": [
    "#### Selecionando as variáveis independente"
   ]
  },
  {
   "cell_type": "code",
   "execution_count": 22,
   "metadata": {},
   "outputs": [],
   "source": [
    "# excluindo NU_INSCRICAO, porque não faz sentido para o modelo\n",
    "test.drop(columns=['NU_INSCRICAO'], inplace=True)\n",
    "X_test = test"
   ]
  },
  {
   "cell_type": "code",
   "execution_count": 23,
   "metadata": {},
   "outputs": [
    {
     "data": {
      "text/html": [
       "<div>\n",
       "<style scoped>\n",
       "    .dataframe tbody tr th:only-of-type {\n",
       "        vertical-align: middle;\n",
       "    }\n",
       "\n",
       "    .dataframe tbody tr th {\n",
       "        vertical-align: top;\n",
       "    }\n",
       "\n",
       "    .dataframe thead th {\n",
       "        text-align: right;\n",
       "    }\n",
       "</style>\n",
       "<table border=\"1\" class=\"dataframe\">\n",
       "  <thead>\n",
       "    <tr style=\"text-align: right;\">\n",
       "      <th></th>\n",
       "      <th>NU_NOTA_CN</th>\n",
       "      <th>NU_NOTA_CH</th>\n",
       "      <th>NU_NOTA_LC</th>\n",
       "      <th>NU_NOTA_COMP1</th>\n",
       "      <th>NU_NOTA_COMP2</th>\n",
       "      <th>NU_NOTA_COMP3</th>\n",
       "      <th>NU_NOTA_COMP4</th>\n",
       "      <th>NU_NOTA_COMP5</th>\n",
       "      <th>NU_NOTA_REDACAO</th>\n",
       "    </tr>\n",
       "  </thead>\n",
       "  <tbody>\n",
       "    <tr>\n",
       "      <th>0</th>\n",
       "      <td>464.8</td>\n",
       "      <td>443.5</td>\n",
       "      <td>431.8</td>\n",
       "      <td>120.0</td>\n",
       "      <td>80.0</td>\n",
       "      <td>80.0</td>\n",
       "      <td>100.0</td>\n",
       "      <td>40.0</td>\n",
       "      <td>420.0</td>\n",
       "    </tr>\n",
       "    <tr>\n",
       "      <th>1</th>\n",
       "      <td>391.1</td>\n",
       "      <td>491.1</td>\n",
       "      <td>548.0</td>\n",
       "      <td>120.0</td>\n",
       "      <td>120.0</td>\n",
       "      <td>120.0</td>\n",
       "      <td>120.0</td>\n",
       "      <td>100.0</td>\n",
       "      <td>580.0</td>\n",
       "    </tr>\n",
       "    <tr>\n",
       "      <th>2</th>\n",
       "      <td>595.9</td>\n",
       "      <td>622.7</td>\n",
       "      <td>613.6</td>\n",
       "      <td>80.0</td>\n",
       "      <td>40.0</td>\n",
       "      <td>40.0</td>\n",
       "      <td>80.0</td>\n",
       "      <td>80.0</td>\n",
       "      <td>320.0</td>\n",
       "    </tr>\n",
       "    <tr>\n",
       "      <th>3</th>\n",
       "      <td>-1.0</td>\n",
       "      <td>-1.0</td>\n",
       "      <td>-1.0</td>\n",
       "      <td>-1.0</td>\n",
       "      <td>-1.0</td>\n",
       "      <td>-1.0</td>\n",
       "      <td>-1.0</td>\n",
       "      <td>-1.0</td>\n",
       "      <td>-1.0</td>\n",
       "    </tr>\n",
       "    <tr>\n",
       "      <th>4</th>\n",
       "      <td>592.9</td>\n",
       "      <td>492.6</td>\n",
       "      <td>571.4</td>\n",
       "      <td>100.0</td>\n",
       "      <td>80.0</td>\n",
       "      <td>60.0</td>\n",
       "      <td>80.0</td>\n",
       "      <td>0.0</td>\n",
       "      <td>320.0</td>\n",
       "    </tr>\n",
       "    <tr>\n",
       "      <th>...</th>\n",
       "      <td>...</td>\n",
       "      <td>...</td>\n",
       "      <td>...</td>\n",
       "      <td>...</td>\n",
       "      <td>...</td>\n",
       "      <td>...</td>\n",
       "      <td>...</td>\n",
       "      <td>...</td>\n",
       "      <td>...</td>\n",
       "    </tr>\n",
       "    <tr>\n",
       "      <th>4571</th>\n",
       "      <td>398.3</td>\n",
       "      <td>558.2</td>\n",
       "      <td>511.6</td>\n",
       "      <td>120.0</td>\n",
       "      <td>120.0</td>\n",
       "      <td>120.0</td>\n",
       "      <td>100.0</td>\n",
       "      <td>40.0</td>\n",
       "      <td>500.0</td>\n",
       "    </tr>\n",
       "    <tr>\n",
       "      <th>4572</th>\n",
       "      <td>427.6</td>\n",
       "      <td>579.7</td>\n",
       "      <td>471.1</td>\n",
       "      <td>100.0</td>\n",
       "      <td>100.0</td>\n",
       "      <td>100.0</td>\n",
       "      <td>120.0</td>\n",
       "      <td>100.0</td>\n",
       "      <td>520.0</td>\n",
       "    </tr>\n",
       "    <tr>\n",
       "      <th>4573</th>\n",
       "      <td>639.2</td>\n",
       "      <td>643.8</td>\n",
       "      <td>604.9</td>\n",
       "      <td>160.0</td>\n",
       "      <td>140.0</td>\n",
       "      <td>120.0</td>\n",
       "      <td>140.0</td>\n",
       "      <td>80.0</td>\n",
       "      <td>640.0</td>\n",
       "    </tr>\n",
       "    <tr>\n",
       "      <th>4574</th>\n",
       "      <td>427.1</td>\n",
       "      <td>467.9</td>\n",
       "      <td>540.2</td>\n",
       "      <td>140.0</td>\n",
       "      <td>80.0</td>\n",
       "      <td>80.0</td>\n",
       "      <td>140.0</td>\n",
       "      <td>80.0</td>\n",
       "      <td>520.0</td>\n",
       "    </tr>\n",
       "    <tr>\n",
       "      <th>4575</th>\n",
       "      <td>-1.0</td>\n",
       "      <td>-1.0</td>\n",
       "      <td>-1.0</td>\n",
       "      <td>-1.0</td>\n",
       "      <td>-1.0</td>\n",
       "      <td>-1.0</td>\n",
       "      <td>-1.0</td>\n",
       "      <td>-1.0</td>\n",
       "      <td>-1.0</td>\n",
       "    </tr>\n",
       "  </tbody>\n",
       "</table>\n",
       "<p>4576 rows × 9 columns</p>\n",
       "</div>"
      ],
      "text/plain": [
       "      NU_NOTA_CN  NU_NOTA_CH  NU_NOTA_LC  NU_NOTA_COMP1  NU_NOTA_COMP2  \\\n",
       "0          464.8       443.5       431.8          120.0           80.0   \n",
       "1          391.1       491.1       548.0          120.0          120.0   \n",
       "2          595.9       622.7       613.6           80.0           40.0   \n",
       "3           -1.0        -1.0        -1.0           -1.0           -1.0   \n",
       "4          592.9       492.6       571.4          100.0           80.0   \n",
       "...          ...         ...         ...            ...            ...   \n",
       "4571       398.3       558.2       511.6          120.0          120.0   \n",
       "4572       427.6       579.7       471.1          100.0          100.0   \n",
       "4573       639.2       643.8       604.9          160.0          140.0   \n",
       "4574       427.1       467.9       540.2          140.0           80.0   \n",
       "4575        -1.0        -1.0        -1.0           -1.0           -1.0   \n",
       "\n",
       "      NU_NOTA_COMP3  NU_NOTA_COMP4  NU_NOTA_COMP5  NU_NOTA_REDACAO  \n",
       "0              80.0          100.0           40.0            420.0  \n",
       "1             120.0          120.0          100.0            580.0  \n",
       "2              40.0           80.0           80.0            320.0  \n",
       "3              -1.0           -1.0           -1.0             -1.0  \n",
       "4              60.0           80.0            0.0            320.0  \n",
       "...             ...            ...            ...              ...  \n",
       "4571          120.0          100.0           40.0            500.0  \n",
       "4572          100.0          120.0          100.0            520.0  \n",
       "4573          120.0          140.0           80.0            640.0  \n",
       "4574           80.0          140.0           80.0            520.0  \n",
       "4575           -1.0           -1.0           -1.0             -1.0  \n",
       "\n",
       "[4576 rows x 9 columns]"
      ]
     },
     "execution_count": 23,
     "metadata": {},
     "output_type": "execute_result"
    }
   ],
   "source": [
    "X_test.drop(columns=['NU_NOTA_MT'], inplace=True)\n",
    "X_test"
   ]
  },
  {
   "cell_type": "markdown",
   "metadata": {},
   "source": [
    "## Instanciando modelo RandomForestRegressor"
   ]
  },
  {
   "cell_type": "code",
   "execution_count": 24,
   "metadata": {},
   "outputs": [],
   "source": [
    "regr = RandomForestRegressor(n_estimators=2000, n_jobs=-1, max_depth=100, min_samples_leaf=4,\n",
    "                             min_samples_split=10, random_state=0)"
   ]
  },
  {
   "cell_type": "markdown",
   "metadata": {},
   "source": [
    "### Treinando modelo"
   ]
  },
  {
   "cell_type": "code",
   "execution_count": 25,
   "metadata": {},
   "outputs": [
    {
     "name": "stdout",
     "output_type": "stream",
     "text": [
      "CPU times: user 1min 35s, sys: 353 ms, total: 1min 35s\n",
      "Wall time: 15.7 s\n"
     ]
    },
    {
     "data": {
      "text/plain": [
       "RandomForestRegressor(max_depth=100, min_samples_leaf=4, min_samples_split=10,\n",
       "                      n_estimators=2000, n_jobs=-1, random_state=0)"
      ]
     },
     "execution_count": 25,
     "metadata": {},
     "output_type": "execute_result"
    }
   ],
   "source": [
    "%%time\n",
    "regr.fit(X_train, y_train)"
   ]
  },
  {
   "cell_type": "markdown",
   "metadata": {},
   "source": [
    "### Verificando a métrica R²"
   ]
  },
  {
   "cell_type": "markdown",
   "metadata": {},
   "source": [
    "#### A métrica R² varia entre 0 e 1, expressa a quantidade da variância dos dados que é explicada pelo modelo. Sendo assim, quanto maior o R², mais explicativo é o modelo, ou seja, melhor ele se ajusta à amostra."
   ]
  },
  {
   "cell_type": "code",
   "execution_count": 26,
   "metadata": {},
   "outputs": [
    {
     "name": "stdout",
     "output_type": "stream",
     "text": [
      "R² = 0.96\n"
     ]
    }
   ],
   "source": [
    "print('R² = {}'.format(regr.score(X_train, y_train).round(2)))"
   ]
  },
  {
   "cell_type": "markdown",
   "metadata": {},
   "source": [
    "### Prevendo a variável target para o teste"
   ]
  },
  {
   "cell_type": "code",
   "execution_count": 27,
   "metadata": {},
   "outputs": [
    {
     "data": {
      "text/plain": [
       "array([429.19162362, 448.20404426, 601.5789247 , ..., 664.02614271,\n",
       "       454.0928351 ,  -0.99995593])"
      ]
     },
     "execution_count": 27,
     "metadata": {},
     "output_type": "execute_result"
    }
   ],
   "source": [
    "y_predict = regr.predict(X_test)\n",
    "y_predict"
   ]
  },
  {
   "cell_type": "code",
   "execution_count": 28,
   "metadata": {},
   "outputs": [
    {
     "data": {
      "text/plain": [
       "array([429.2, 448.2, 601.6, ..., 664. , 454.1,   0. ])"
      ]
     },
     "execution_count": 28,
     "metadata": {},
     "output_type": "execute_result"
    }
   ],
   "source": [
    "# Tratando para ficar com apenas uma casa decimal\n",
    "y_predict = y_predict.round(1)\n",
    "\n",
    "# limitar resultados entre 0 e 1000\n",
    "y_predict = np.clip(y_predict, 0, 1000)\n",
    "\n",
    "y_predict"
   ]
  },
  {
   "cell_type": "code",
   "execution_count": 29,
   "metadata": {},
   "outputs": [
    {
     "data": {
      "text/plain": [
       "0       429.2\n",
       "1       448.2\n",
       "2       601.6\n",
       "3         0.0\n",
       "4       525.6\n",
       "        ...  \n",
       "4571    452.3\n",
       "4572    486.3\n",
       "4573    664.0\n",
       "4574    454.1\n",
       "4575      0.0\n",
       "Length: 4576, dtype: float64"
      ]
     },
     "execution_count": 29,
     "metadata": {},
     "output_type": "execute_result"
    }
   ],
   "source": [
    "# Criando uma Serie para as notas previstas\n",
    "y_predict = pd.Series(y_predict)\n",
    "y_predict"
   ]
  },
  {
   "cell_type": "code",
   "execution_count": 30,
   "metadata": {},
   "outputs": [],
   "source": [
    "# Criando dataframe com NUM_INSCRICAO e NU_NOTA_MT (prevista)\n",
    "answer = pd.concat([num_inscricao, y_predict], axis=1)\n",
    "# Renomeando coluna\n",
    "answer.rename(columns={0:'NU_NOTA_MT'}, inplace=True)"
   ]
  },
  {
   "cell_type": "code",
   "execution_count": 31,
   "metadata": {},
   "outputs": [
    {
     "data": {
      "text/html": [
       "<div>\n",
       "<style scoped>\n",
       "    .dataframe tbody tr th:only-of-type {\n",
       "        vertical-align: middle;\n",
       "    }\n",
       "\n",
       "    .dataframe tbody tr th {\n",
       "        vertical-align: top;\n",
       "    }\n",
       "\n",
       "    .dataframe thead th {\n",
       "        text-align: right;\n",
       "    }\n",
       "</style>\n",
       "<table border=\"1\" class=\"dataframe\">\n",
       "  <thead>\n",
       "    <tr style=\"text-align: right;\">\n",
       "      <th></th>\n",
       "      <th>NU_INSCRICAO</th>\n",
       "      <th>NU_NOTA_MT</th>\n",
       "    </tr>\n",
       "  </thead>\n",
       "  <tbody>\n",
       "    <tr>\n",
       "      <th>0</th>\n",
       "      <td>73ff9fcc02f0a99919906c942c2e1a1042cdcf98</td>\n",
       "      <td>429.2</td>\n",
       "    </tr>\n",
       "    <tr>\n",
       "      <th>1</th>\n",
       "      <td>71a95f9f1b91a82c65ad94abbdf9f54e6066f968</td>\n",
       "      <td>448.2</td>\n",
       "    </tr>\n",
       "    <tr>\n",
       "      <th>2</th>\n",
       "      <td>b38a03232f43b11c9d0788abaf060f7366053b6d</td>\n",
       "      <td>601.6</td>\n",
       "    </tr>\n",
       "    <tr>\n",
       "      <th>3</th>\n",
       "      <td>70b682d9a3636be23f6120fa9d6b164eb3c6002d</td>\n",
       "      <td>0.0</td>\n",
       "    </tr>\n",
       "    <tr>\n",
       "      <th>4</th>\n",
       "      <td>715494628a50142ce8cb17191cfe6d0f3cae0934</td>\n",
       "      <td>525.6</td>\n",
       "    </tr>\n",
       "    <tr>\n",
       "      <th>...</th>\n",
       "      <td>...</td>\n",
       "      <td>...</td>\n",
       "    </tr>\n",
       "    <tr>\n",
       "      <th>4571</th>\n",
       "      <td>dac0f22429c7f8e3931d0abaf5dfc8e5c772a48b</td>\n",
       "      <td>452.3</td>\n",
       "    </tr>\n",
       "    <tr>\n",
       "      <th>4572</th>\n",
       "      <td>a75fa8770257e7c9368d059fe53d9ef431f4bdef</td>\n",
       "      <td>486.3</td>\n",
       "    </tr>\n",
       "    <tr>\n",
       "      <th>4573</th>\n",
       "      <td>655fa6306720ff16e825903b5422a46608a77545</td>\n",
       "      <td>664.0</td>\n",
       "    </tr>\n",
       "    <tr>\n",
       "      <th>4574</th>\n",
       "      <td>1f4bc3e3d56212d500625bfe8ac78ccff4362293</td>\n",
       "      <td>454.1</td>\n",
       "    </tr>\n",
       "    <tr>\n",
       "      <th>4575</th>\n",
       "      <td>adf0d15b54317b6564ef56dad2b775bbb0ef50cc</td>\n",
       "      <td>0.0</td>\n",
       "    </tr>\n",
       "  </tbody>\n",
       "</table>\n",
       "<p>4576 rows × 2 columns</p>\n",
       "</div>"
      ],
      "text/plain": [
       "                                  NU_INSCRICAO  NU_NOTA_MT\n",
       "0     73ff9fcc02f0a99919906c942c2e1a1042cdcf98       429.2\n",
       "1     71a95f9f1b91a82c65ad94abbdf9f54e6066f968       448.2\n",
       "2     b38a03232f43b11c9d0788abaf060f7366053b6d       601.6\n",
       "3     70b682d9a3636be23f6120fa9d6b164eb3c6002d         0.0\n",
       "4     715494628a50142ce8cb17191cfe6d0f3cae0934       525.6\n",
       "...                                        ...         ...\n",
       "4571  dac0f22429c7f8e3931d0abaf5dfc8e5c772a48b       452.3\n",
       "4572  a75fa8770257e7c9368d059fe53d9ef431f4bdef       486.3\n",
       "4573  655fa6306720ff16e825903b5422a46608a77545       664.0\n",
       "4574  1f4bc3e3d56212d500625bfe8ac78ccff4362293       454.1\n",
       "4575  adf0d15b54317b6564ef56dad2b775bbb0ef50cc         0.0\n",
       "\n",
       "[4576 rows x 2 columns]"
      ]
     },
     "execution_count": 31,
     "metadata": {},
     "output_type": "execute_result"
    }
   ],
   "source": [
    "answer"
   ]
  },
  {
   "cell_type": "markdown",
   "metadata": {},
   "source": [
    "## Criando arquivo para submissão do desafio"
   ]
  },
  {
   "cell_type": "code",
   "execution_count": 32,
   "metadata": {},
   "outputs": [],
   "source": [
    "answer.to_csv('answer.csv',columns=['NU_INSCRICAO', 'NU_NOTA_MT'], sep=',', index=False)"
   ]
  },
  {
   "cell_type": "code",
   "execution_count": null,
   "metadata": {},
   "outputs": [],
   "source": []
  }
 ],
 "metadata": {
  "kernelspec": {
   "display_name": "Python 3",
   "language": "python",
   "name": "python3"
  },
  "language_info": {
   "codemirror_mode": {
    "name": "ipython",
    "version": 3
   },
   "file_extension": ".py",
   "mimetype": "text/x-python",
   "name": "python",
   "nbconvert_exporter": "python",
   "pygments_lexer": "ipython3",
   "version": "3.7.6"
  }
 },
 "nbformat": 4,
 "nbformat_minor": 2
}
